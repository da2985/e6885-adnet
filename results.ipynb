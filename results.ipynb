{
  "cells": [
    {
      "cell_type": "markdown",
      "metadata": {
        "id": "view-in-github"
      },
      "source": [
        "<a href=\"https://colab.research.google.com/github/da2985/e6885-adnet/blob/main/reinforce.ipynb\" target=\"_parent\"><img src=\"https://colab.research.google.com/assets/colab-badge.svg\" alt=\"Open In Colab\"/></a>"
      ]
    },
    {
      "cell_type": "markdown",
      "metadata": {
        "id": "1c1BWwgpSXW9"
      },
      "source": [
        "# Imports & Starting Configs\n",
        "\n",
        "Please use the following two lines to load from Google Drive\n",
        "\n",
        "If your file is not there, upload it to https://drive.google.com/drive/folders/1tsPKyB2E1nW8Qw--kZ9GaeGW2u2-XoV6?usp=sharing"
      ]
    },
    {
      "cell_type": "code",
      "execution_count": 1,
      "metadata": {
        "colab": {
          "base_uri": "https://localhost:8080/"
        },
        "id": "vqT6TJ9DLT5v",
        "outputId": "939a6c4d-c886-49b2-bd1b-bb4b7894eb1c"
      },
      "outputs": [
        {
          "output_type": "stream",
          "name": "stdout",
          "text": [
            "Mounted at /content/gdrive\n"
          ]
        }
      ],
      "source": [
        "# This must be run within a Google Colab environment \n",
        "from google.colab import drive  \n",
        "drive.mount('/content/gdrive')"
      ]
    },
    {
      "cell_type": "code",
      "execution_count": 2,
      "metadata": {
        "id": "2sTHMZwqNPlW"
      },
      "outputs": [],
      "source": [
        "import sys\n",
        "import os\n",
        "\n",
        "sys.path.append('/content/gdrive/EE6885')\n",
        "\n",
        "os.chdir(\"/content/gdrive/My Drive/EE6885\")"
      ]
    },
    {
      "cell_type": "code",
      "execution_count": 3,
      "metadata": {
        "colab": {
          "base_uri": "https://localhost:8080/"
        },
        "id": "EvlhZxrmdezd",
        "outputId": "cd0adfb6-26c3-4014-8912-760eb1f51132"
      },
      "outputs": [
        {
          "output_type": "stream",
          "name": "stdout",
          "text": [
            "Basketball  Bolt  CarDark   Crossing  Dudek\tHuman6\t Man\t       RedTeam\n",
            "Bird2\t    Box   CarScale  Crowds    FaceOcc2\tJumping  Matrix        Skater\n",
            "BlurCar3    Boy   ClifBar   Deer      Fish\tLemming  MotorRolling  Skating1\n",
            "Board\t    Car4  Coupon    Doll      Human2\tLiquor\t Panda\n"
          ]
        }
      ],
      "source": [
        "!ls adnet_datasets/OTB"
      ]
    },
    {
      "cell_type": "code",
      "execution_count": 4,
      "metadata": {
        "colab": {
          "base_uri": "https://localhost:8080/"
        },
        "id": "nNOHmxvDD8wD",
        "outputId": "a112c2c6-814d-4e37-c904-78f3b6ace9d0"
      },
      "outputs": [
        {
          "output_type": "stream",
          "name": "stdout",
          "text": [
            "Collecting hdf5storage\n",
            "  Downloading hdf5storage-0.1.18-py2.py3-none-any.whl (53 kB)\n",
            "\u001b[K     |████████████████████████████████| 53 kB 1.4 MB/s \n",
            "\u001b[?25hCollecting tensorflow-addons\n",
            "  Downloading tensorflow_addons-0.15.0-cp37-cp37m-manylinux_2_12_x86_64.manylinux2010_x86_64.whl (1.1 MB)\n",
            "\u001b[K     |████████████████████████████████| 1.1 MB 10.5 MB/s \n",
            "\u001b[?25hRequirement already satisfied: numpy in /usr/local/lib/python3.7/dist-packages (from hdf5storage) (1.19.5)\n",
            "Requirement already satisfied: h5py>=2.1 in /usr/local/lib/python3.7/dist-packages (from hdf5storage) (3.1.0)\n",
            "Requirement already satisfied: cached-property in /usr/local/lib/python3.7/dist-packages (from h5py>=2.1->hdf5storage) (1.5.2)\n",
            "Requirement already satisfied: typeguard>=2.7 in /usr/local/lib/python3.7/dist-packages (from tensorflow-addons) (2.7.1)\n",
            "Installing collected packages: tensorflow-addons, hdf5storage\n",
            "Successfully installed hdf5storage-0.1.18 tensorflow-addons-0.15.0\n"
          ]
        }
      ],
      "source": [
        "pip install hdf5storage tensorflow-addons"
      ]
    },
    {
      "cell_type": "code",
      "execution_count": 5,
      "metadata": {
        "id": "gNmhYpyeDLrQ"
      },
      "outputs": [],
      "source": [
        "import numpy as np\n",
        "import tensorflow as tf\n",
        "import tensorflow_addons as tfa\n",
        "\n",
        "import tensorflow_probability as tfp\n",
        "from tensorflow.keras.optimizers import Adam, SGD\n",
        "from tensorflow.keras import regularizers\n",
        "import tensorflow.experimental.numpy as tnp\n",
        "\n",
        "import cv2\n",
        "import glob\n",
        "import hdf5storage\n",
        "import math\n",
        "import random\n",
        "import re\n",
        "\n",
        "import matplotlib.pyplot as plt\n",
        "import matplotlib.image as mpimg\n",
        "import matplotlib.patches as patches\n",
        "import scipy.io as sio\n",
        "\n",
        "import linecache\n",
        "\n",
        "from typing import Dict, List, Tuple\n",
        "from operator import add\n",
        "import copy\n",
        "\n",
        "from numpy.random import seed\n",
        "from datetime import datetime"
      ]
    },
    {
      "cell_type": "code",
      "execution_count": 7,
      "metadata": {
        "id": "UsXgP5KrEGNW"
      },
      "outputs": [],
      "source": [
        " %load_ext autoreload \n",
        " %autoreload 2"
      ]
    },
    {
      "cell_type": "markdown",
      "metadata": {
        "id": "HdgRU7dpw6t4"
      },
      "source": [
        "# Configurations"
      ]
    },
    {
      "cell_type": "code",
      "execution_count": 6,
      "metadata": {
        "id": "G3xZrSk9XdEA"
      },
      "outputs": [],
      "source": [
        "#@markdown Network configurations\n",
        "LEARNING_RATE = 1e-4 #@param {type:\"number\"}\n",
        "GOAL_IOU = 0.7 #@param {type:\"number\"}\n",
        "\n",
        "# The length of the action buffer\n",
        "L = 10 #@param {type:\"number\"}\n",
        "# Max Trajectory Length \n",
        "MAX_TRAJECTORY_LENGTH =  5#@param {type:\"number\"}\n",
        "POLICY_TYPE = \"stochastic\" #@param [\"deterministic\", \"stochastic\"] {type:\"string\"}\n",
        "DROPOUT_4 = 0.5 #@param {type:\"number\"}\n",
        "DROPOUT_5 = 0.5 #@param {type:\"number\"}\n",
        "N_EPOCHS =  300#@param {type:\"number\"}\n",
        "\n",
        "# Number of retries to collect sequence loss sum (to reduce variance)\n",
        "N_RETRIES =   1#@param {type:\"number\"}\n",
        "\n",
        "# Randomizes the order in which frames are trained on from a video clip\n",
        "RANDOMIZE_TRAINING = False #@param {type:\"boolean\"}\n",
        "\n",
        "# The paper uses sum. I thought avg would help address giant swings, but the training was taking way too long\n",
        "# with negligible updates\n",
        "GRAD_ACCUM_SCHEME = \"sum\" #@param [\"avg\", \"sum\"] {type:\"string\"}\n",
        "\n",
        "# Use to avoid overly long trajectories. \n",
        "# During trajectory collection, we were not receiving \n",
        "# enough positvie signals\n",
        "PREMATURE_BREAK = False #@param {type:\"boolean\"}\n",
        "\n",
        "\n",
        "#@markdown ---\n",
        "#@markdown Loss/Reward Constants\n",
        "# This is a probability offset for adding noise since log(P(a|s)=1)=0\n",
        "PROB_OFFSET = 1e-5 #@param {type:\"number\"} \n",
        "# This is the discount factor\n",
        "GAMMA = 1 #@param {type:\"number\"}\n",
        "\n",
        "# The paper uses final_bbox where only the final bounding box placement is accounted\n",
        "# in reward calculation. individ_bbox individually assign rewards per each bounding box.\n",
        "REWARD_SCHEME = \"final_bbox\" #@param [\"final_bbox\", \"individ_bbox\"] {type:\"string\"}\n",
        "\n",
        "#@markdown ---\n",
        "#@markdown Bounding Box/Patch Constants (probably avoid touching)\n",
        "ALPHA = 0.03 #@param {type:\"number\"}\n",
        "MIN_WINDOW_SIZE = 10 #@param {type:\"number\"}\n",
        "PATCH_X = 112 #@param {type:\"number\"}\n",
        "PATCH_Y = 112 #@param {type:\"number\"}\n",
        "N_CHANNELS = 3 #@param {type:\"number\"}\n",
        "\n",
        "#@markdown ---\n",
        "RANDOM_SEED = 6885\n",
        "\n",
        "\n",
        "\n",
        "\n",
        "\n"
      ]
    },
    {
      "cell_type": "code",
      "execution_count": 7,
      "metadata": {
        "id": "AQ4YPvJCt9Dg"
      },
      "outputs": [],
      "source": [
        "seed(RANDOM_SEED)\n",
        "tf.random.set_seed(RANDOM_SEED)\n",
        "\n",
        "DATASET_PATH = \"adnet_datasets/vot2019/*\" #@param {type:\"string\"}\n",
        "ALL_DATASETS_LIST = glob.glob(DATASET_PATH)"
      ]
    },
    {
      "cell_type": "markdown",
      "metadata": {
        "id": "QCB-wEWrfk6N"
      },
      "source": [
        "### Successful Configurations (Minimize Me Please)"
      ]
    },
    {
      "cell_type": "markdown",
      "metadata": {
        "id": "A8s6YHABjUG5"
      },
      "source": [
        "## Model Definitions"
      ]
    },
    {
      "cell_type": "code",
      "execution_count": 8,
      "metadata": {
        "colab": {
          "base_uri": "https://localhost:8080/"
        },
        "id": "cfRbj1tuEIyA",
        "outputId": "5acc1da1-1735-4acf-f102-39cb4b19df59"
      },
      "outputs": [
        {
          "output_type": "stream",
          "name": "stdout",
          "text": [
            "Num GPUs Available:  1\n"
          ]
        }
      ],
      "source": [
        "class ADNET(tf.keras.Model):\n",
        "\n",
        "    ACTION_DIM = 11\n",
        "    K = 10\n",
        "    CONF_SCORE_DIM = 2\n",
        "\n",
        "    def __init__(self):\n",
        "        super(ADNET, self).__init__()\n",
        "\n",
        "        self.action_history = tf.keras.layers.Input(shape = (1,1, ADNET.ACTION_DIM * ADNET.K))\n",
        "\n",
        "        self.conv1 = tf.keras.layers.Conv2D(filters = 96, kernel_size = (7, 7), strides = (2, 2), padding = 'VALID', activation = 'relu', name = 'conv_1')\n",
        "        self.max1  = tf.keras.layers.MaxPooling2D(pool_size=(3,3), strides = (1, 1), padding = 'VALID')\n",
        "        self.conv2 = tf.keras.layers.Conv2D(filters = 256, kernel_size = (5, 5), strides = (2, 2), padding = 'VALID', activation = 'relu', name = 'conv_2')\n",
        "        self.max2  = tf.keras.layers.MaxPool2D(pool_size=(3, 3), strides = (2, 2), padding = 'VALID')\n",
        "        self.conv3 = tf.keras.layers.Conv2D(filters = 512, kernel_size = (3, 3), strides = (2, 2), padding = 'VALID', activation = 'relu', name = 'conv_3')\n",
        "        self.max3  = tf.keras.layers.MaxPool2D(pool_size=(3, 3), strides = (1, 1), padding = 'VALID')\n",
        "        \n",
        "        self.fc1 = tf.keras.layers.Conv2D(filters = 512, kernel_size = (3, 3), padding = 'VALID', activation = 'relu', name = 'fc1')\n",
        "        self.fc2 = tf.keras.layers.Conv2D(filters = 512, kernel_size = (1,1), padding = 'VALID', activation = 'relu', name = 'fc2')\n",
        "        self.fc3 = tf.keras.layers.Conv2D(filters = 11, kernel_size = (1,1), padding = 'VALID', name = 'fc3',activation=\"softmax\")\n",
        "        self.fc4 = tf.keras.layers.Conv2D(filters = 2, kernel_size = (1,1), padding = 'VALID', name = 'fc4',activation=\"softmax\")\n",
        "\n",
        "        # TODO: ADD A SEED\n",
        "        self.dropout1=tf.keras.layers.Dropout(DROPOUT_4)\n",
        "        self.dropout2=tf.keras.layers.Dropout(DROPOUT_5)\n",
        "        \n",
        "\n",
        "    def build(self):\n",
        "      super(ADNET, self).build((None, 112, 112, 3))\n",
        "      self.action_history = np.zeros(shape = (1,1,1,110))\n",
        "\n",
        "\n",
        "    def call(self, input_tensor, training=False):\n",
        "        x = self.conv1(input_tensor)\n",
        "        x = self.max1(x)\n",
        "        x = self.conv2(x)\n",
        "        x = self.max2(x)\n",
        "        x = self.conv3(x)\n",
        "        x = self.max3(x)\n",
        "\n",
        "        x = self.fc1(x)\n",
        "        x = self.dropout1(x)\n",
        "        x = self.fc2(x)\n",
        "        x = self.dropout2(x)\n",
        "        x = tf.keras.layers.Concatenate(axis=-1)([x, self.action_history])\n",
        "        action = self.fc3(x)\n",
        "        confidence = self.fc4(x)\n",
        "        return [action, confidence]\n",
        "\n",
        "\n",
        "    def compile(self, optimizer):\n",
        "   \t\tsuper().compile(optimizer, loss={\n",
        "         'output_1':tf.keras.losses.SparseCategoricalCrossentropy(from_logits=False),\n",
        "         'output_2': tf.keras.losses.SparseCategoricalCrossentropy(from_logits=False)\n",
        "         })\n",
        "     \n",
        "    def getEmbedding(self,input_tensor):\n",
        "        x = self.conv1(input_tensor)\n",
        "        x = self.max1(x)\n",
        "        x = self.conv2(x)\n",
        "        x = self.max2(x)\n",
        "        x = self.conv3(x)\n",
        "        x = self.max3(x)\n",
        "        return tf.reshape(x,(-1,))\n",
        "\n",
        "    def getFC1(self,input_tensor):\n",
        "        x = self.conv1(input_tensor)\n",
        "        x = self.max1(x)\n",
        "        x = self.conv2(x)\n",
        "        x = self.max2(x)\n",
        "        x = self.conv3(x)\n",
        "        x = self.max3(x)\n",
        "        x = self.fc1(x)\n",
        "        return x\n",
        "\n",
        "    def setActionHistory(self, action_history):\n",
        "      self.action_history = action_history.reshape(\n",
        "          (1, 1, 1, ADNET.ACTION_DIM * ADNET.K))\n",
        "\n",
        "    def updateActionHistory(self, a: int=8) -> tnp.ndarray:\n",
        "      '''\n",
        "      Left-to-right FIFO queue of actions\n",
        "      '''\n",
        "      ah = np.array(self.action_history).flatten()\n",
        "      ah[ADNET.ACTION_DIM:] = ah[:-ADNET.ACTION_DIM]\n",
        "      ah[:ADNET.ACTION_DIM] = 0 \n",
        "      ah[a] = 1\n",
        "      self.setActionHistory(ah)\n",
        "      return ah\n",
        "\n",
        "    def clearActionHistory(self):\n",
        "      self.action_history = tf.zeros((1, 1, 1, ADNET.ACTION_DIM * ADNET.K))\n",
        "\n",
        "    def getPrettyActionHistory(self):\n",
        "      action_hist = tf.reshape(model.action_history, [-1])\n",
        "      sbuffer = \"[\"\n",
        "      for i, x in enumerate(action_hist):\n",
        "        if i > 0 and i % model.ACTION_DIM == 0:\n",
        "          sbuffer+= \"\\x1b[35m,\\x1b[0m\"\n",
        "        if x == 1:\n",
        "          sbuffer += \"\\x1b[35m{0}\\x1b[0m\".format(int(x))\n",
        "        else:\n",
        "          sbuffer += \"{0}\".format(int(x))\n",
        "      sbuffer += \"]\"\n",
        "      return sbuffer \n",
        "\n",
        "\n",
        "    def debugModelSummary(self):\n",
        "      '''\n",
        "      call model.debugModelSummary().summary() to get around the inconvenience \n",
        "      from model.summary() returning 'multiple' for each layer's output shape\n",
        "      '''\n",
        "      dummyInput = tf.keras.layers.Input(shape = (112,112,3))\n",
        "      return tf.keras.Model(inputs=[dummyInput], outputs = self.call(dummyInput))\n",
        "\n",
        "def setWeights(model, weights, weights2):\n",
        "  model.layers[0].set_weights([weights2[\"conv1f\"],tf.reshape(weights2[\"conv1b\"],(96,))])\n",
        "  model.layers[2].set_weights([weights2[\"conv2f\"],tf.reshape(weights2[\"conv2b\"],(256,))])\n",
        "  model.layers[4].set_weights([weights2[\"conv3f\"],tf.reshape(weights2[\"conv3b\"],(512,))])\n",
        "  \n",
        "  model.layers[6].set_weights([weights[\"fc4f\"],tf.reshape(weights[\"fc4b\"],(512,))])\n",
        "  model.layers[7].set_weights([weights[\"fc5f\"],tf.reshape(weights[\"fc5b\"],(512,))])\n",
        "  model.layers[8].set_weights([weights[\"fc6_1f\"],tf.zeros(11)])\n",
        "  model.layers[9].set_weights([weights[\"fc6_2f\"],tf.zeros(2)])\n",
        "  \n",
        "  return model\n",
        "\n",
        "print(\"Num GPUs Available: \", len(tf.config.list_physical_devices('GPU')))"
      ]
    },
    {
      "cell_type": "markdown",
      "metadata": {
        "id": "jcjMuA1EjRsE"
      },
      "source": [
        "# Helper Functions"
      ]
    },
    {
      "cell_type": "markdown",
      "metadata": {
        "id": "xY2WCmjC2gLN"
      },
      "source": [
        "### Plotting & Debugging"
      ]
    },
    {
      "cell_type": "code",
      "execution_count": 9,
      "metadata": {
        "colab": {
          "base_uri": "https://localhost:8080/",
          "height": 363
        },
        "id": "NtQ22_87T8MQ",
        "outputId": "eec96076-5f91-460a-9c9e-cbacc39c0f4f"
      },
      "outputs": [
        {
          "output_type": "error",
          "ename": "FileNotFoundError",
          "evalue": "ignored",
          "traceback": [
            "\u001b[0;31m---------------------------------------------------------------------------\u001b[0m",
            "\u001b[0;31mFileNotFoundError\u001b[0m                         Traceback (most recent call last)",
            "\u001b[0;32m<ipython-input-9-4b22b142c3b7>\u001b[0m in \u001b[0;36m<module>\u001b[0;34m()\u001b[0m\n\u001b[1;32m     61\u001b[0m \u001b[0;34m\u001b[0m\u001b[0m\n\u001b[1;32m     62\u001b[0m \u001b[0;31m# print(plotDatasetImageBBox(\"adnet_datasets/OTB/Basketball\", 50)[0])\u001b[0m\u001b[0;34m\u001b[0m\u001b[0;34m\u001b[0m\u001b[0;34m\u001b[0m\u001b[0m\n\u001b[0;32m---> 63\u001b[0;31m \u001b[0mprint\u001b[0m\u001b[0;34m(\u001b[0m\u001b[0mplotDatasetImageBBox\u001b[0m\u001b[0;34m(\u001b[0m\u001b[0;34m\"adnet_datasets/OTB/BlurBody\"\u001b[0m\u001b[0;34m,\u001b[0m \u001b[0;36m10\u001b[0m\u001b[0;34m)\u001b[0m\u001b[0;34m[\u001b[0m\u001b[0;36m0\u001b[0m\u001b[0;34m]\u001b[0m\u001b[0;34m)\u001b[0m\u001b[0;34m\u001b[0m\u001b[0;34m\u001b[0m\u001b[0m\n\u001b[0m",
            "\u001b[0;32m<ipython-input-9-4b22b142c3b7>\u001b[0m in \u001b[0;36mplotDatasetImageBBox\u001b[0;34m(dataset, frame_no)\u001b[0m\n\u001b[1;32m     55\u001b[0m   '''\n\u001b[1;32m     56\u001b[0m   \u001b[0mimgs\u001b[0m \u001b[0;34m=\u001b[0m \u001b[0msorted\u001b[0m\u001b[0;34m(\u001b[0m\u001b[0mglob\u001b[0m\u001b[0;34m.\u001b[0m\u001b[0mglob\u001b[0m\u001b[0;34m(\u001b[0m\u001b[0;34m\"{0}/img/*\"\u001b[0m\u001b[0;34m.\u001b[0m\u001b[0mformat\u001b[0m\u001b[0;34m(\u001b[0m\u001b[0mdataset\u001b[0m\u001b[0;34m)\u001b[0m\u001b[0;34m)\u001b[0m\u001b[0;34m)\u001b[0m\u001b[0;34m\u001b[0m\u001b[0;34m\u001b[0m\u001b[0m\n\u001b[0;32m---> 57\u001b[0;31m   \u001b[0mgt\u001b[0m \u001b[0;34m=\u001b[0m \u001b[0mget_ground_truths\u001b[0m\u001b[0;34m(\u001b[0m\u001b[0;34m\"{0}/groundtruth_rect.txt\"\u001b[0m\u001b[0;34m.\u001b[0m\u001b[0mformat\u001b[0m\u001b[0;34m(\u001b[0m\u001b[0mdataset\u001b[0m\u001b[0;34m)\u001b[0m\u001b[0;34m)\u001b[0m\u001b[0;34m\u001b[0m\u001b[0;34m\u001b[0m\u001b[0m\n\u001b[0m\u001b[1;32m     58\u001b[0m   \u001b[0mplotImageBBox\u001b[0m\u001b[0;34m(\u001b[0m\u001b[0mimgs\u001b[0m\u001b[0;34m[\u001b[0m\u001b[0mframe_no\u001b[0m\u001b[0;34m]\u001b[0m\u001b[0;34m,\u001b[0m \u001b[0mgt\u001b[0m\u001b[0;34m[\u001b[0m\u001b[0mframe_no\u001b[0m\u001b[0;34m]\u001b[0m\u001b[0;34m)\u001b[0m\u001b[0;34m\u001b[0m\u001b[0;34m\u001b[0m\u001b[0m\n\u001b[1;32m     59\u001b[0m   \u001b[0;32mreturn\u001b[0m \u001b[0mgt\u001b[0m\u001b[0;34m[\u001b[0m\u001b[0mframe_no\u001b[0m\u001b[0;34m]\u001b[0m\u001b[0;34m,\u001b[0m \u001b[0mframe_no\u001b[0m\u001b[0;34m\u001b[0m\u001b[0;34m\u001b[0m\u001b[0m\n",
            "\u001b[0;32m<ipython-input-9-4b22b142c3b7>\u001b[0m in \u001b[0;36mget_ground_truths\u001b[0;34m(ground_truth_file)\u001b[0m\n\u001b[1;32m      3\u001b[0m   \u001b[0mUse\u001b[0m \u001b[0mme\u001b[0m \u001b[0mto\u001b[0m \u001b[0mconvert\u001b[0m \u001b[0ma\u001b[0m \u001b[0mground_truth_file\u001b[0m \u001b[0mto\u001b[0m \u001b[0ma\u001b[0m \u001b[0mnumpy\u001b[0m \u001b[0marray\u001b[0m\u001b[0;34m\u001b[0m\u001b[0;34m\u001b[0m\u001b[0m\n\u001b[1;32m      4\u001b[0m   '''\n\u001b[0;32m----> 5\u001b[0;31m   \u001b[0;32mwith\u001b[0m \u001b[0mopen\u001b[0m\u001b[0;34m(\u001b[0m\u001b[0mground_truth_file\u001b[0m\u001b[0;34m)\u001b[0m \u001b[0;32mas\u001b[0m \u001b[0mf\u001b[0m\u001b[0;34m:\u001b[0m\u001b[0;34m\u001b[0m\u001b[0;34m\u001b[0m\u001b[0m\n\u001b[0m\u001b[1;32m      6\u001b[0m     \u001b[0mground_truths\u001b[0m \u001b[0;34m=\u001b[0m \u001b[0mf\u001b[0m\u001b[0;34m.\u001b[0m\u001b[0mreadlines\u001b[0m\u001b[0;34m(\u001b[0m\u001b[0;34m)\u001b[0m\u001b[0;34m\u001b[0m\u001b[0;34m\u001b[0m\u001b[0m\n\u001b[1;32m      7\u001b[0m     \u001b[0mto_nparray\u001b[0m \u001b[0;34m=\u001b[0m \u001b[0;32mlambda\u001b[0m \u001b[0ms\u001b[0m\u001b[0;34m:\u001b[0m \u001b[0mnp\u001b[0m\u001b[0;34m.\u001b[0m\u001b[0marray\u001b[0m\u001b[0;34m(\u001b[0m\u001b[0mre\u001b[0m\u001b[0;34m.\u001b[0m\u001b[0mfindall\u001b[0m\u001b[0;34m(\u001b[0m\u001b[0;34m'\\d+'\u001b[0m\u001b[0;34m,\u001b[0m \u001b[0ms\u001b[0m\u001b[0;34m)\u001b[0m\u001b[0;34m,\u001b[0m \u001b[0mdtype\u001b[0m\u001b[0;34m=\u001b[0m\u001b[0mint\u001b[0m\u001b[0;34m)\u001b[0m\u001b[0;34m\u001b[0m\u001b[0;34m\u001b[0m\u001b[0m\n",
            "\u001b[0;31mFileNotFoundError\u001b[0m: [Errno 2] No such file or directory: 'adnet_datasets/OTB/BlurBody/groundtruth_rect.txt'"
          ]
        }
      ],
      "source": [
        "def get_ground_truths(ground_truth_file: str) -> np.array:\n",
        "  '''\n",
        "  Use me to convert a ground_truth_file to a numpy array\n",
        "  '''\n",
        "  with open(ground_truth_file) as f:\n",
        "    ground_truths = f.readlines()\n",
        "    to_nparray = lambda s: np.array(re.findall('\\d+', s), dtype=int)\n",
        "    truths = list(map(to_nparray, ground_truths))\n",
        "    return np.asarray(truths)\n",
        "  return None\n",
        "\n",
        "def plotNpImageBBox(img: np.array, bbox: np.array) -> np.array:\n",
        "  '''\n",
        "  Plots the bounding box on an image and returns the bounding box\n",
        "  '''\n",
        "  fig, ax = plt.subplots()\n",
        "  x, y, w, h = bbox\n",
        "  rect = patches.Rectangle((x, y), w, h, linewidth=1, edgecolor='r', facecolor='none')\n",
        "  ax.add_patch(rect)\n",
        "  plt.imshow(img)\n",
        "  return bbox\n",
        "\n",
        "def plotNpImageBBoxes(img: np.array, src_bbox: np.array, target_bbox: np.array, \n",
        "                      pred_bbox: np.array) -> np.array:\n",
        "  '''\n",
        "  Plots the bounding boxes on an image and returns the bounding box\n",
        "  '''\n",
        "  fig, ax = plt.subplots()\n",
        "  x1, y1, w1, h1 = src_bbox\n",
        "  x2, y2, w2, h2 = target_bbox\n",
        "  x3, y3, w3, h3 = pred_bbox\n",
        "  rect1 = patches.Rectangle((x1, y1), w1, h1, linewidth=1, edgecolor='b', facecolor='none')\n",
        "  rect2 = patches.Rectangle((x2, y2), w2, h2, linewidth=1, edgecolor='g', facecolor='none')\n",
        "  rect3 = patches.Rectangle((x3, y3), w3, h3, linewidth=1, edgecolor='r', facecolor='none')\n",
        "  ax.add_patch(rect1)\n",
        "  ax.add_patch(rect2)\n",
        "  ax.add_patch(rect3)\n",
        "  plt.imshow(img)\n",
        "  return pred_bbox  \n",
        "\n",
        "def plotImageBBox(img: str, bbox: np.array) -> np.array:\n",
        "  '''\n",
        "  Plots the bounding box on an image (from given filepath) and returns the \n",
        "  bounding box\n",
        "  '''\n",
        "  img = cv2.imread(img)\n",
        "  img = cv2.cvtColor(img, cv2.COLOR_BGR2RGB)\n",
        "  plotNpImageBBox(img, bbox)\n",
        "  return bbox\n",
        "\n",
        "def plotDatasetImageBBox(dataset: str, frame_no: int) -> Tuple[np.array, int]:\n",
        "  '''\n",
        "  Plot an image's bounding box. Returns the ground truth and frame number.\n",
        "  WORKS FOR OTB100\n",
        "  '''\n",
        "  imgs = sorted(glob.glob(\"{0}/img/*\".format(dataset)))\n",
        "  gt = get_ground_truths(\"{0}/groundtruth_rect.txt\".format(dataset))\n",
        "  plotImageBBox(imgs[frame_no], gt[frame_no])\n",
        "  return gt[frame_no], frame_no\n",
        "\n",
        "\n",
        "# print(plotDatasetImageBBox(\"adnet_datasets/OTB/Basketball\", 50)[0])\n",
        "print(plotDatasetImageBBox(\"adnet_datasets/OTB/BlurBody\", 10)[0])"
      ]
    },
    {
      "cell_type": "markdown",
      "metadata": {
        "id": "rX5bfwFm2c80"
      },
      "source": [
        "### Movement"
      ]
    },
    {
      "cell_type": "code",
      "execution_count": 10,
      "metadata": {
        "id": "VzDdHq04ERNg"
      },
      "outputs": [],
      "source": [
        "STOP_ACTION_INDEX = 8\n",
        "\n",
        "def getFrame(f_path: str) -> np.array:\n",
        "  print(\"Frame path: {0}\".format(f_path))\n",
        "  img = cv2.imread(f_path)\n",
        "  return cv2.cvtColor(img, cv2.COLOR_BGR2RGB)\n",
        "\n",
        "\n",
        "def calculate_IOU(bbox1: np.array, bbox2: np.array):\n",
        "    x1, y1, w1, h1 = bbox1\n",
        "    x2, y2, w2, h2 = bbox2\n",
        "           \n",
        "    i_x1 = max(x1, x2)\n",
        "    i_y1 = max(y1, y2)\n",
        "    i_x2 = min(x1 + w1, x2 + w2)\n",
        "    i_y2 = min(y1 + h1, y2 + h2)\n",
        "    if i_x1 >= i_x2 or i_y1 >= i_y2:\n",
        "      return 0.0\n",
        "\n",
        "    intersection_area = (i_x2 - i_x1) * (i_y2 - i_y1)\n",
        "    box1_area = w1 * h1\n",
        "    box2_area = w2 * h2\n",
        "    \n",
        "    iou = intersection_area / float(box1_area + box2_area - intersection_area)\n",
        "    return iou\n",
        "\n",
        "\n",
        "def move(image: np.array, bbox: np.array, action: str, \n",
        "         stride_magnitude: int=1) -> np.array:\n",
        "  '''\n",
        "  Returns the new bounding box after taking an action: \n",
        "  {\"left\", \"right\", \"up\", \"down\"}. Use stride to indicate the step size.\n",
        "  '''\n",
        "  if action not in set([\"left\", \"right\", \"up\", \"down\"]):\n",
        "    raise RuntimeError(\"Invalid action taken :(\") \n",
        "  \n",
        "  x, y, w, h = bbox\n",
        "  if action in set([\"left\", \"right\"]):\n",
        "    step = max(1, int(ALPHA * w)) * stride_magnitude * (-1 if action==\"left\" else 1)\n",
        "    x = min(max(0, int(x + step)), int(image.shape[1] - w - 1)) \n",
        "  else:\n",
        "    step = max(1, int(ALPHA * h)) * stride_magnitude * (-1 if action==\"up\" else 1)\n",
        "    y = min(max(0, int(y + step)), int(image.shape[0] - h - 1)) \n",
        "\n",
        "  return np.array([x, y, w, h])\n",
        "\n",
        "\n",
        "def scale(image: np.array, bbox: np.array, scaleUp: bool):\n",
        "  x, y, w, h = bbox\n",
        "  deltaW, deltaH = max(2, ALPHA * w), max(2, ALPHA * h)\n",
        "  if not scaleUp: \n",
        "    deltaW *= -1\n",
        "    deltaH *= -1\n",
        "  nw = min(image.shape[1], max(MIN_WINDOW_SIZE, int(w + deltaW))) \n",
        "  nh = min(image.shape[0], max(MIN_WINDOW_SIZE, int(h + deltaH)))\n",
        "  \n",
        "\n",
        "  x = max(0, min(int(x - deltaW / 2), int(image.shape[1] - w - 1)))\n",
        "  y = max(0, min(int(y - deltaH / 2), int(image.shape[0] - h - 1)))\n",
        "  return np.array([x, y, nw, nh])\n",
        "\n",
        "\n",
        "def selectAction(img: np.array, bbox: np.array, index: int): \n",
        "  if index == 0 :\n",
        "    bbox = move(img, bbox, \"left\")\n",
        "  elif index == 1 :\n",
        "    bbox = move(img, bbox, \"left\", stride_magnitude=2)\n",
        "  elif index == 2 :\n",
        "    bbox = move(img, bbox, \"right\")\n",
        "  elif index == 3 :\n",
        "    bbox = move(img, bbox, \"right\", stride_magnitude=2)  \n",
        "  elif index == 4 :\n",
        "    bbox = move(img, bbox, \"up\")  \n",
        "  elif index == 5 :\n",
        "    bbox = move(img, bbox, \"up\", stride_magnitude=2)\n",
        "  elif index == 6 :\n",
        "    bbox = move(img, bbox, \"down\")\n",
        "  elif index == 7 :\n",
        "    bbox = move(img, bbox, \"down\", stride_magnitude=2)\n",
        "  elif index == 8:\n",
        "    bbox = bbox\n",
        "  elif index == 9 :\n",
        "    bbox = scale(img, bbox, False)     \n",
        "  elif index == 10 :\n",
        "    bbox = scale(img, bbox, True)    \n",
        "  else:\n",
        "    raise ValueError(\"Invalid action provided: {0}\".format(index))\n",
        "\n",
        "  x, y, w, h = bbox\n",
        "  # some of the data is just invalid :/\n",
        "  # assert 0 <= x <= img.shape[1] - w, \"x:{0}, w:{1} is out of bounds: [0, {2}]\".format(x, w, img.shape[1])\n",
        "  # assert 0 <= y <= img.shape[0] - h, \"y:{0}, h:{1} is out of bounds: [0, {2}]\".format(y, h, img.shape[0])\n",
        "  # assert MIN_WINDOW_SIZE <= w <= img.shape[1], \"w:{0}, is invalid\".format(w)\n",
        "  # assert MIN_WINDOW_SIZE <= h <= img.shape[0], \"h:{0} is invalid\".format(h)\n",
        "  return index, bbox\n",
        "\n",
        "\n",
        "def human_readable_action(index: int) -> str:\n",
        "  '''\n",
        "  Map action numbers to human readable strings\n",
        "  '''\n",
        "  def _get_action(index:int) -> str:\n",
        "    if index == 0:\n",
        "      return \"left\"\n",
        "    elif index == 1:\n",
        "      return \"2x left\"\n",
        "    elif index == 2:\n",
        "      return \"right\"\n",
        "    elif index == 3:\n",
        "      return \"2x right\"\n",
        "    elif index == 4:\n",
        "      return \"up\"\n",
        "    elif index == 5:\n",
        "      return \"2x up\"\n",
        "    elif index == 6:\n",
        "      return \"down\"\n",
        "    elif index == 7:\n",
        "      return \"2x down\"\n",
        "    elif index == 8:\n",
        "      return \"stop\"\n",
        "    elif index == 9:\n",
        "      return \"scale down\"\n",
        "    elif index == 10 :\n",
        "      return \"scale up\"\n",
        "  return _get_action(index).upper()\n",
        "\n",
        "\n",
        "def getAction(img: np.array, bbox: np.array, action_probs: np.array):  \n",
        "  a = -1\n",
        "  if POLICY_TYPE == \"deterministic\":\n",
        "    a = tf.math.argmax(action_probs)\n",
        "  else:\n",
        "    action_probs = np.array(action_probs) + PROB_OFFSET\n",
        "    action_probs /= action_probs.sum()\n",
        "  \n",
        "    a = np.random.choice(np.arange(len(action_probs)), p=action_probs)\n",
        "  return selectAction(img, bbox, a)\n",
        "\n",
        "\n",
        "def isStop(action: int):\n",
        "  return action == STOP_ACTION_INDEX\n"
      ]
    },
    {
      "cell_type": "markdown",
      "metadata": {
        "id": "ZLxdpmQ5jOjL"
      },
      "source": [
        "# REINFORCE Loop"
      ]
    },
    {
      "cell_type": "markdown",
      "metadata": {
        "id": "2CP9qJBgVq5B"
      },
      "source": [
        "### Trajectory Loss Function\n",
        "\n",
        "TODO: investigate adding https://www.analyticsvidhya.com/blog/2020/11/baseline-for-policy-gradients/\n",
        "Or rather https://arxiv.org/pdf/1301.2315.pdf"
      ]
    },
    {
      "cell_type": "markdown",
      "metadata": {
        "id": "dMujgGmUVu4k"
      },
      "source": [
        "### Tracking Procedure\n",
        "\n",
        "* This function collects trajectories either via argmax deterministic policy or sampling from a stochastic policy"
      ]
    },
    {
      "cell_type": "markdown",
      "metadata": {
        "id": "akOkB6DOxC_v"
      },
      "source": [
        "### Single Training Loop"
      ]
    },
    {
      "cell_type": "markdown",
      "metadata": {
        "id": "oFKnC5VrgVhn"
      },
      "source": [
        "### Epoch Training Loops"
      ]
    },
    {
      "cell_type": "markdown",
      "metadata": {
        "id": "k5g5kT2HgaoO"
      },
      "source": [
        "# Training Procedure"
      ]
    },
    {
      "cell_type": "code",
      "execution_count": 14,
      "metadata": {
        "id": "8wAaN7or552g"
      },
      "outputs": [],
      "source": [
        "%reload_ext autoreload"
      ]
    },
    {
      "cell_type": "markdown",
      "metadata": {
        "id": "EYQ1oThc1c_2"
      },
      "source": [
        "### Save Weights for Reproducibility"
      ]
    },
    {
      "cell_type": "markdown",
      "metadata": {
        "id": "XMtzZ9r5nu8A"
      },
      "source": [
        "### Observations\n",
        "\n",
        "* The paper sums all sequence rewards. However, we found this to produce too much variance. We reduce_mean instead to address this. If we had"
      ]
    },
    {
      "cell_type": "markdown",
      "metadata": {
        "id": "JmQvTRA7j9ET"
      },
      "source": [
        "# Prediction"
      ]
    },
    {
      "cell_type": "code",
      "execution_count": 31,
      "metadata": {
        "id": "u0g-v8GupB9y"
      },
      "outputs": [],
      "source": [
        "def predict(model: tf.keras.Model,img: np.array,bbox: np.array) -> np.array:\n",
        "  ACTION_DIM=11\n",
        "  seen_bboxes = set()\n",
        "  for t in range(MAX_TRAJECTORY_LENGTH):\n",
        "    #model.setActionHistory(action_hist.reshape((1, 1, 1, ACTION_DIM * K)))\n",
        "    #model.setActionHistory(action_hist.reshape((1,ACTION_DIM * K))) ### For ADNET_v2\n",
        "    patch = getPatch(img, bbox)\n",
        "    a_prob, score = model(patch)\n",
        "    maxaction = np.argmax(a_prob)\n",
        "    a, bbox = selectAction(np.array(img), bbox, maxaction)\n",
        "    model.updateActionHistory(a)\n",
        "    if isStop(a) or tuple(bbox) in seen_bboxes:\n",
        "      break \n",
        "   # seen_bboxes.add(tuple(bbox))\n",
        "  return bbox"
      ]
    },
    {
      "cell_type": "code",
      "execution_count": 15,
      "metadata": {
        "id": "03dOCNAKz6sg"
      },
      "outputs": [],
      "source": [
        "def plotNpImageBBoxGT(img: np.array, bbox: np.array,gbbox: np.array) -> np.array:\n",
        "  '''\n",
        "  Plots the bounding box on an image and returns the bounding box\n",
        "  '''\n",
        "  fig, ax = plt.subplots()\n",
        "  x_pre,y_pre, w_pre, h_pre = bbox\n",
        "  x_gr,y_gr, w_gr, h_gr = gbbox\n",
        "  predicted_rect = patches.Rectangle((x_pre, y_pre), w_pre, h_pre, linewidth=1, edgecolor='r', facecolor='none')\n",
        "  gt_rect = patches.Rectangle((x_gr, y_gr), w_gr, h_gr, linewidth=1, edgecolor='b', facecolor='none')\n",
        "  ax.add_patch(predicted_rect)\n",
        "  ax.add_patch(gt_rect)\n",
        "  plt.imshow(img)\n",
        "  return bbox"
      ]
    },
    {
      "cell_type": "code",
      "execution_count": 67,
      "metadata": {
        "id": "DhMMozN6J64i",
        "colab": {
          "base_uri": "https://localhost:8080/"
        },
        "outputId": "2d10df93-2ca1-44d2-8c94-5a284c056976"
      },
      "outputs": [
        {
          "output_type": "stream",
          "name": "stdout",
          "text": [
            "WARNING:tensorflow:Unresolved object in checkpoint: (root).optimizer\n"
          ]
        },
        {
          "output_type": "stream",
          "name": "stderr",
          "text": [
            "WARNING:tensorflow:Unresolved object in checkpoint: (root).optimizer\n"
          ]
        },
        {
          "output_type": "stream",
          "name": "stdout",
          "text": [
            "WARNING:tensorflow:Unresolved object in checkpoint: (root).optimizer.iter\n"
          ]
        },
        {
          "output_type": "stream",
          "name": "stderr",
          "text": [
            "WARNING:tensorflow:Unresolved object in checkpoint: (root).optimizer.iter\n"
          ]
        },
        {
          "output_type": "stream",
          "name": "stdout",
          "text": [
            "WARNING:tensorflow:Unresolved object in checkpoint: (root).optimizer.beta_1\n"
          ]
        },
        {
          "output_type": "stream",
          "name": "stderr",
          "text": [
            "WARNING:tensorflow:Unresolved object in checkpoint: (root).optimizer.beta_1\n"
          ]
        },
        {
          "output_type": "stream",
          "name": "stdout",
          "text": [
            "WARNING:tensorflow:Unresolved object in checkpoint: (root).optimizer.beta_2\n"
          ]
        },
        {
          "output_type": "stream",
          "name": "stderr",
          "text": [
            "WARNING:tensorflow:Unresolved object in checkpoint: (root).optimizer.beta_2\n"
          ]
        },
        {
          "output_type": "stream",
          "name": "stdout",
          "text": [
            "WARNING:tensorflow:Unresolved object in checkpoint: (root).optimizer.decay\n"
          ]
        },
        {
          "output_type": "stream",
          "name": "stderr",
          "text": [
            "WARNING:tensorflow:Unresolved object in checkpoint: (root).optimizer.decay\n"
          ]
        },
        {
          "output_type": "stream",
          "name": "stdout",
          "text": [
            "WARNING:tensorflow:Unresolved object in checkpoint: (root).optimizer.learning_rate\n"
          ]
        },
        {
          "output_type": "stream",
          "name": "stderr",
          "text": [
            "WARNING:tensorflow:Unresolved object in checkpoint: (root).optimizer.learning_rate\n"
          ]
        },
        {
          "output_type": "stream",
          "name": "stdout",
          "text": [
            "WARNING:tensorflow:Unresolved object in checkpoint: (root).optimizer's state 'm' for (root).conv1.kernel\n"
          ]
        },
        {
          "output_type": "stream",
          "name": "stderr",
          "text": [
            "WARNING:tensorflow:Unresolved object in checkpoint: (root).optimizer's state 'm' for (root).conv1.kernel\n"
          ]
        },
        {
          "output_type": "stream",
          "name": "stdout",
          "text": [
            "WARNING:tensorflow:Unresolved object in checkpoint: (root).optimizer's state 'm' for (root).conv1.bias\n"
          ]
        },
        {
          "output_type": "stream",
          "name": "stderr",
          "text": [
            "WARNING:tensorflow:Unresolved object in checkpoint: (root).optimizer's state 'm' for (root).conv1.bias\n"
          ]
        },
        {
          "output_type": "stream",
          "name": "stdout",
          "text": [
            "WARNING:tensorflow:Unresolved object in checkpoint: (root).optimizer's state 'm' for (root).conv2.kernel\n"
          ]
        },
        {
          "output_type": "stream",
          "name": "stderr",
          "text": [
            "WARNING:tensorflow:Unresolved object in checkpoint: (root).optimizer's state 'm' for (root).conv2.kernel\n"
          ]
        },
        {
          "output_type": "stream",
          "name": "stdout",
          "text": [
            "WARNING:tensorflow:Unresolved object in checkpoint: (root).optimizer's state 'm' for (root).conv2.bias\n"
          ]
        },
        {
          "output_type": "stream",
          "name": "stderr",
          "text": [
            "WARNING:tensorflow:Unresolved object in checkpoint: (root).optimizer's state 'm' for (root).conv2.bias\n"
          ]
        },
        {
          "output_type": "stream",
          "name": "stdout",
          "text": [
            "WARNING:tensorflow:Unresolved object in checkpoint: (root).optimizer's state 'm' for (root).conv3.kernel\n"
          ]
        },
        {
          "output_type": "stream",
          "name": "stderr",
          "text": [
            "WARNING:tensorflow:Unresolved object in checkpoint: (root).optimizer's state 'm' for (root).conv3.kernel\n"
          ]
        },
        {
          "output_type": "stream",
          "name": "stdout",
          "text": [
            "WARNING:tensorflow:Unresolved object in checkpoint: (root).optimizer's state 'm' for (root).conv3.bias\n"
          ]
        },
        {
          "output_type": "stream",
          "name": "stderr",
          "text": [
            "WARNING:tensorflow:Unresolved object in checkpoint: (root).optimizer's state 'm' for (root).conv3.bias\n"
          ]
        },
        {
          "output_type": "stream",
          "name": "stdout",
          "text": [
            "WARNING:tensorflow:Unresolved object in checkpoint: (root).optimizer's state 'm' for (root).fc1.kernel\n"
          ]
        },
        {
          "output_type": "stream",
          "name": "stderr",
          "text": [
            "WARNING:tensorflow:Unresolved object in checkpoint: (root).optimizer's state 'm' for (root).fc1.kernel\n"
          ]
        },
        {
          "output_type": "stream",
          "name": "stdout",
          "text": [
            "WARNING:tensorflow:Unresolved object in checkpoint: (root).optimizer's state 'm' for (root).fc1.bias\n"
          ]
        },
        {
          "output_type": "stream",
          "name": "stderr",
          "text": [
            "WARNING:tensorflow:Unresolved object in checkpoint: (root).optimizer's state 'm' for (root).fc1.bias\n"
          ]
        },
        {
          "output_type": "stream",
          "name": "stdout",
          "text": [
            "WARNING:tensorflow:Unresolved object in checkpoint: (root).optimizer's state 'm' for (root).fc2.kernel\n"
          ]
        },
        {
          "output_type": "stream",
          "name": "stderr",
          "text": [
            "WARNING:tensorflow:Unresolved object in checkpoint: (root).optimizer's state 'm' for (root).fc2.kernel\n"
          ]
        },
        {
          "output_type": "stream",
          "name": "stdout",
          "text": [
            "WARNING:tensorflow:Unresolved object in checkpoint: (root).optimizer's state 'm' for (root).fc2.bias\n"
          ]
        },
        {
          "output_type": "stream",
          "name": "stderr",
          "text": [
            "WARNING:tensorflow:Unresolved object in checkpoint: (root).optimizer's state 'm' for (root).fc2.bias\n"
          ]
        },
        {
          "output_type": "stream",
          "name": "stdout",
          "text": [
            "WARNING:tensorflow:Unresolved object in checkpoint: (root).optimizer's state 'm' for (root).fc3.kernel\n"
          ]
        },
        {
          "output_type": "stream",
          "name": "stderr",
          "text": [
            "WARNING:tensorflow:Unresolved object in checkpoint: (root).optimizer's state 'm' for (root).fc3.kernel\n"
          ]
        },
        {
          "output_type": "stream",
          "name": "stdout",
          "text": [
            "WARNING:tensorflow:Unresolved object in checkpoint: (root).optimizer's state 'm' for (root).fc3.bias\n"
          ]
        },
        {
          "output_type": "stream",
          "name": "stderr",
          "text": [
            "WARNING:tensorflow:Unresolved object in checkpoint: (root).optimizer's state 'm' for (root).fc3.bias\n"
          ]
        },
        {
          "output_type": "stream",
          "name": "stdout",
          "text": [
            "WARNING:tensorflow:Unresolved object in checkpoint: (root).optimizer's state 'v' for (root).conv1.kernel\n"
          ]
        },
        {
          "output_type": "stream",
          "name": "stderr",
          "text": [
            "WARNING:tensorflow:Unresolved object in checkpoint: (root).optimizer's state 'v' for (root).conv1.kernel\n"
          ]
        },
        {
          "output_type": "stream",
          "name": "stdout",
          "text": [
            "WARNING:tensorflow:Unresolved object in checkpoint: (root).optimizer's state 'v' for (root).conv1.bias\n"
          ]
        },
        {
          "output_type": "stream",
          "name": "stderr",
          "text": [
            "WARNING:tensorflow:Unresolved object in checkpoint: (root).optimizer's state 'v' for (root).conv1.bias\n"
          ]
        },
        {
          "output_type": "stream",
          "name": "stdout",
          "text": [
            "WARNING:tensorflow:Unresolved object in checkpoint: (root).optimizer's state 'v' for (root).conv2.kernel\n"
          ]
        },
        {
          "output_type": "stream",
          "name": "stderr",
          "text": [
            "WARNING:tensorflow:Unresolved object in checkpoint: (root).optimizer's state 'v' for (root).conv2.kernel\n"
          ]
        },
        {
          "output_type": "stream",
          "name": "stdout",
          "text": [
            "WARNING:tensorflow:Unresolved object in checkpoint: (root).optimizer's state 'v' for (root).conv2.bias\n"
          ]
        },
        {
          "output_type": "stream",
          "name": "stderr",
          "text": [
            "WARNING:tensorflow:Unresolved object in checkpoint: (root).optimizer's state 'v' for (root).conv2.bias\n"
          ]
        },
        {
          "output_type": "stream",
          "name": "stdout",
          "text": [
            "WARNING:tensorflow:Unresolved object in checkpoint: (root).optimizer's state 'v' for (root).conv3.kernel\n"
          ]
        },
        {
          "output_type": "stream",
          "name": "stderr",
          "text": [
            "WARNING:tensorflow:Unresolved object in checkpoint: (root).optimizer's state 'v' for (root).conv3.kernel\n"
          ]
        },
        {
          "output_type": "stream",
          "name": "stdout",
          "text": [
            "WARNING:tensorflow:Unresolved object in checkpoint: (root).optimizer's state 'v' for (root).conv3.bias\n"
          ]
        },
        {
          "output_type": "stream",
          "name": "stderr",
          "text": [
            "WARNING:tensorflow:Unresolved object in checkpoint: (root).optimizer's state 'v' for (root).conv3.bias\n"
          ]
        },
        {
          "output_type": "stream",
          "name": "stdout",
          "text": [
            "WARNING:tensorflow:Unresolved object in checkpoint: (root).optimizer's state 'v' for (root).fc1.kernel\n"
          ]
        },
        {
          "output_type": "stream",
          "name": "stderr",
          "text": [
            "WARNING:tensorflow:Unresolved object in checkpoint: (root).optimizer's state 'v' for (root).fc1.kernel\n"
          ]
        },
        {
          "output_type": "stream",
          "name": "stdout",
          "text": [
            "WARNING:tensorflow:Unresolved object in checkpoint: (root).optimizer's state 'v' for (root).fc1.bias\n"
          ]
        },
        {
          "output_type": "stream",
          "name": "stderr",
          "text": [
            "WARNING:tensorflow:Unresolved object in checkpoint: (root).optimizer's state 'v' for (root).fc1.bias\n"
          ]
        },
        {
          "output_type": "stream",
          "name": "stdout",
          "text": [
            "WARNING:tensorflow:Unresolved object in checkpoint: (root).optimizer's state 'v' for (root).fc2.kernel\n"
          ]
        },
        {
          "output_type": "stream",
          "name": "stderr",
          "text": [
            "WARNING:tensorflow:Unresolved object in checkpoint: (root).optimizer's state 'v' for (root).fc2.kernel\n"
          ]
        },
        {
          "output_type": "stream",
          "name": "stdout",
          "text": [
            "WARNING:tensorflow:Unresolved object in checkpoint: (root).optimizer's state 'v' for (root).fc2.bias\n"
          ]
        },
        {
          "output_type": "stream",
          "name": "stderr",
          "text": [
            "WARNING:tensorflow:Unresolved object in checkpoint: (root).optimizer's state 'v' for (root).fc2.bias\n"
          ]
        },
        {
          "output_type": "stream",
          "name": "stdout",
          "text": [
            "WARNING:tensorflow:Unresolved object in checkpoint: (root).optimizer's state 'v' for (root).fc3.kernel\n"
          ]
        },
        {
          "output_type": "stream",
          "name": "stderr",
          "text": [
            "WARNING:tensorflow:Unresolved object in checkpoint: (root).optimizer's state 'v' for (root).fc3.kernel\n"
          ]
        },
        {
          "output_type": "stream",
          "name": "stdout",
          "text": [
            "WARNING:tensorflow:Unresolved object in checkpoint: (root).optimizer's state 'v' for (root).fc3.bias\n"
          ]
        },
        {
          "output_type": "stream",
          "name": "stderr",
          "text": [
            "WARNING:tensorflow:Unresolved object in checkpoint: (root).optimizer's state 'v' for (root).fc3.bias\n"
          ]
        },
        {
          "output_type": "stream",
          "name": "stdout",
          "text": [
            "WARNING:tensorflow:A checkpoint was restored (e.g. tf.train.Checkpoint.restore or tf.keras.Model.load_weights) but not all checkpointed values were used. See above for specific issues. Use expect_partial() on the load status object, e.g. tf.train.Checkpoint.restore(...).expect_partial(), to silence these warnings, or use assert_consumed() to make the check explicit. See https://www.tensorflow.org/guide/checkpoint#loading_mechanics for details.\n"
          ]
        },
        {
          "output_type": "stream",
          "name": "stderr",
          "text": [
            "WARNING:tensorflow:A checkpoint was restored (e.g. tf.train.Checkpoint.restore or tf.keras.Model.load_weights) but not all checkpointed values were used. See above for specific issues. Use expect_partial() on the load status object, e.g. tf.train.Checkpoint.restore(...).expect_partial(), to silence these warnings, or use assert_consumed() to make the check explicit. See https://www.tensorflow.org/guide/checkpoint#loading_mechanics for details.\n"
          ]
        },
        {
          "output_type": "stream",
          "name": "stdout",
          "text": [
            "WARNING: Bounding box: [ 33  43 289 449] had to be standardized to [ 33  31 289 449]\n",
            "WARNING: Bounding box: [ 25  31 289 449] had to be standardized to [ 25  31 289 449]\n",
            "[[array([302, 162,  48,  80]), array([300, 169,  46,  77]), array([297, 172,  44,  74]), array([295, 180,  44,  74]), array([290, 180,  44,  74]), array([286, 178,  48,  78]), array([286, 178,  48,  78]), array([280, 178,  48,  78]), array([278, 174,  52,  82]), array([278, 178,  52,  82]), array([278, 180,  52,  82]), array([278, 178,  54,  84]), array([281, 179,  54,  83]), array([280, 177,  56,  85]), array([277, 172,  60,  88]), array([278, 164,  60,  88]), array([279, 162,  62,  90]), array([280, 158,  66,  94]), array([279, 154,  70,  98]), array([279, 154,  70,  98]), array([279, 154,  70,  98]), array([281, 166,  72, 100]), array([281, 166,  72, 100]), array([285, 156,  76, 106]), array([284, 151,  79, 111]), array([282, 147,  83, 117]), array([290, 147,  83, 117]), array([286, 141,  83, 117]), array([286, 143,  77, 109]), array([280, 131,  83, 118]), array([278, 140,  83, 118]), array([278, 140,  83, 118]), array([270, 134,  83, 118]), array([268, 108,  85, 121]), array([258, 106,  87, 124]), array([251, 103,  88, 126]), array([258, 104,  85, 122]), array([257, 105,  82, 118]), array([262, 103,  79, 114]), array([263, 104,  76, 110]), array([269, 106,  70, 102]), array([271, 106,  64,  95]), array([270, 108,  60,  89]), array([273, 105,  58,  86]), array([276, 103,  58,  86]), array([274,  98,  62,  89]), array([271,  96,  64,  91]), array([272, 104,  64,  91]), array([274, 100,  66,  93]), array([278, 106,  68,  95]), array([270, 104,  76, 104]), array([266, 102,  78, 107]), array([252, 100,  80, 110]), array([248, 107,  82, 113]), array([244, 107,  88, 122]), array([236, 107,  94, 131]), array([232, 108,  96, 134]), array([224, 106, 100, 142]), array([215, 105, 109, 154]), array([216, 118, 112, 158]), array([214, 123, 115, 162]), array([214, 123, 115, 162]), array([214, 123, 115, 162]), array([206, 101, 127, 180]), array([202, 100, 133, 190]), array([200,  97, 136, 195]), array([200,  87, 136, 195]), array([200,  97, 136, 195]), array([200,  87, 136, 195]), array([200,  97, 136, 195]), array([183,  87, 148, 212]), array([181,  85, 156, 224]), array([165, 103, 156, 224]), array([145,  87, 173, 250]), array([141,  82, 188, 271]), array([138,  45, 193, 279]), array([127,  29, 208, 302]), array([107,   3, 238, 348]), array([ 99,   0, 252, 368]), array([ 99,   0, 252, 368]), array([ 99,   0, 252, 368]), array([ 99,   0, 252, 368]), array([ 99,   0, 252, 368]), array([ 99,   0, 252, 368]), array([ 99,   0, 252, 368]), array([113,  22, 252, 368]), array([119,  21, 251, 366]), array([126,  11, 251, 366]), array([126,  11, 251, 366]), array([126,  11, 251, 366]), array([119,  11, 251, 366]), array([126,  11, 251, 366]), array([126,  11, 251, 366]), array([126,  11, 251, 366]), array([ 94,  15, 258, 376]), array([ 94,   0, 258, 376]), array([ 94,  22, 258, 376]), array([ 87,   0, 258, 376]), array([ 87,   0, 258, 376]), array([ 87,   0, 258, 376]), array([ 90,   0, 250, 364]), array([ 86,   0, 257, 374]), array([ 81,   0, 263, 383]), array([ 81,   0, 263, 383]), array([ 81,   0, 263, 383]), array([ 74,   0, 263, 383]), array([ 88,   0, 263, 383]), array([ 88,   0, 263, 383]), array([ 88,   0, 263, 383]), array([102,   0, 263, 383]), array([102,   0, 263, 383]), array([116,   0, 263, 383]), array([116,   0, 263, 383]), array([116,   0, 263, 383]), array([116,   0, 263, 383]), array([116,   0, 263, 383]), array([116,   0, 263, 383]), array([116,   0, 263, 383]), array([116,   0, 263, 383]), array([116,   0, 263, 383]), array([116,   0, 263, 383]), array([116,   0, 263, 383]), array([116,   0, 263, 383]), array([116,   0, 263, 383]), array([116,   0, 263, 383]), array([116,   0, 263, 383]), array([116,   0, 263, 383]), array([109,   0, 263, 383]), array([ 78,   0, 278, 405]), array([ 95,  26, 236, 345]), array([116,  20, 214, 313]), array([123,  31, 193, 283]), array([102,   5, 203, 299]), array([102,   9, 221, 325]), array([ 93,   0, 232, 342]), array([103,   5, 229, 339]), array([103,   0, 229, 339]), array([103,   0, 229, 339]), array([103,   0, 229, 339]), array([ 99,   0, 235, 349]), array([ 99,   0, 235, 349]), array([ 99,   0, 235, 349]), array([ 99,   0, 235, 349]), array([ 99,   0, 235, 349]), array([ 99,   0, 235, 349]), array([125,  18, 206, 307]), array([144,  34, 181, 270]), array([149,  43, 162, 244]), array([127,  27, 180, 272]), array([112,   2, 206, 313]), array([ 87,  22, 205, 312]), array([ 99,  21, 203, 311]), array([ 87,  21, 203, 311]), array([ 83,  16, 209, 320]), array([ 95,  16, 209, 320]), array([ 98,  13, 202, 310]), array([100,   0, 208, 319]), array([ 92,   0, 220, 337]), array([ 88,   0, 226, 347]), array([100,   0, 226, 347]), array([106,   0, 226, 347]), array([102,   0, 232, 357]), array([102,   0, 232, 357]), array([102,  20, 232, 357]), array([102,  30, 232, 357]), array([102,  20, 232, 357]), array([102,  30, 232, 357]), array([102,  20, 232, 357]), array([ 84,  36, 238, 367]), array([ 48,  24, 252, 389]), array([ 51,  62, 259, 400]), array([ 33,  31, 289, 449]), array([ 25,  31, 289, 449]), array([  0,  18, 289, 449]), array([  0,  18, 289, 449]), array([  0,  18, 289, 449]), array([  0,  18, 289, 449]), array([  0,  18, 289, 449]), array([  0,  18, 289, 449]), array([  0,  18, 289, 449]), array([  0,  18, 289, 449]), array([  0,  18, 289, 449]), array([  0,  18, 289, 449]), array([  0,  18, 289, 449]), array([  0,  18, 289, 449]), array([  0,  18, 289, 449]), array([  0,  18, 289, 449]), array([  0,  18, 289, 449]), array([  0,  18, 289, 449]), array([  0,  18, 289, 449]), array([  0,  18, 289, 449]), array([  0,  18, 289, 449]), array([  0,  18, 289, 449]), array([  0,  18, 289, 449]), array([  0,  18, 289, 449]), array([  0,  18, 289, 449]), array([  0,  18, 289, 449]), array([  0,  18, 289, 449]), array([  0,  18, 289, 449]), array([  0,  18, 289, 449]), array([  0,  18, 289, 449]), array([  0,  18, 289, 449]), array([  0,  18, 289, 449]), array([  0,  18, 289, 449]), array([  0,  18, 289, 449]), array([  0,  18, 289, 449]), array([  0,  18, 289, 449]), array([  0,  30, 289, 449]), array([  0,  30, 289, 449]), array([  0,  17, 289, 449]), array([  4,  23, 280, 435]), array([  0,  23, 280, 435]), array([  0,  23, 280, 435]), array([  0,  23, 280, 435]), array([  0,  44, 280, 435]), array([  0,  44, 280, 435]), array([  0,  44, 280, 435]), array([  0,  44, 280, 435]), array([  0,  44, 280, 435]), array([  0,  44, 280, 435]), array([  0,  44, 280, 435]), array([  0,  44, 280, 435]), array([  0,  44, 280, 435]), array([  0,  44, 280, 435]), array([  0,  44, 280, 435]), array([  0,  44, 280, 435]), array([  0,  44, 280, 435]), array([  0,  44, 280, 435]), array([  0,  44, 280, 435]), array([  0,  44, 280, 435]), array([  0,  44, 280, 435]), array([  0,  44, 280, 435]), array([  0,  44, 280, 435]), array([  0,  44, 280, 435]), array([  0,  44, 280, 435]), array([  0,  44, 280, 435]), array([  0,  44, 280, 435]), array([  0,  44, 280, 435]), array([  0,  44, 280, 435]), array([  0,  44, 280, 435]), array([  0,  44, 280, 435]), array([  0,  44, 280, 435]), array([  0,  44, 280, 435]), array([  0,  44, 280, 435]), array([  0,  44, 280, 435]), array([  0,  44, 280, 435]), array([  0,  44, 280, 435]), array([  0,  44, 280, 435]), array([  0,  44, 280, 435]), array([  0,  44, 280, 435]), array([  0,  44, 280, 435]), array([  0,  44, 280, 435]), array([  0,  44, 280, 435]), array([  0,  44, 280, 435]), array([  0,  44, 280, 435]), array([  0,  44, 280, 435]), array([  0,  44, 280, 435]), array([  0,  44, 280, 435]), array([  0,  44, 280, 435]), array([  0,  44, 280, 435]), array([  0,  44, 280, 435]), array([  0,  44, 280, 435]), array([  0,  44, 280, 435]), array([  0,  44, 280, 435]), array([  0,  44, 280, 435]), array([  0,  44, 280, 435]), array([  0,  44, 280, 435]), array([  0,  44, 280, 435]), array([  0,  44, 280, 435]), array([  0,  44, 280, 435]), array([  0,  44, 280, 435]), array([  0,  44, 280, 435]), array([  0,  44, 280, 435]), array([  0,  44, 280, 435]), array([  0,  44, 280, 435]), array([  0,  44, 280, 435]), array([  0,  44, 280, 435]), array([  0,  44, 280, 435]), array([  0,  44, 280, 435]), array([  0,  44, 280, 435]), array([  0,  44, 280, 435]), array([  0,  44, 280, 435]), array([  0,  44, 280, 435]), array([  0,  44, 280, 435]), array([  0,  44, 280, 435]), array([  0,  44, 280, 435]), array([  0,  44, 280, 435]), array([  0,  44, 280, 435]), array([  0,  44, 280, 435]), array([  0,   0, 280, 435])]]\n",
            "[array([[298, 160,  48,  80],\n",
            "       [300, 164,  45,  80],\n",
            "       [300, 168,  45,  80],\n",
            "       ...,\n",
            "       [270, 133,  48,  80],\n",
            "       [256, 131,  48,  83],\n",
            "       [244, 138,  48,  80]])]\n"
          ]
        }
      ],
      "source": [
        "import time\n",
        "#OPE TEST\n",
        "def test_metrics( model: tf.keras.Model, model2:tf.keras.Model  ):\n",
        "    all_boxes = []\n",
        "    #all_boxes2 = []\n",
        "    all_gt = []\n",
        "    time_perframe_for_each_video =[]\n",
        "    test_list = glob.glob(\"adnet_datasets/Test/*\")\n",
        "    #for it in range(5): activate for TRE\n",
        "    for  i in range(1):  # start with 1\n",
        "      dataset = test_list[12]\n",
        "      model.clearActionHistory()\n",
        "      gt = get_ground_truths(\"%s/groundtruth_rect.txt\" % dataset)     \n",
        "      all_gt.append(gt)\n",
        "      frames = sorted(glob.glob(os.path.join('%s/img' % dataset, '*.jpg')))\n",
        "      number_of_frames = len(frames)\n",
        "      #start_frame = random.randint(0, number_of_frames) ACTIVATE FOR TRE\n",
        "      start_frame = 1\n",
        "      boxes_m1 =[]\n",
        "      boxes_m2 = []\n",
        "      time_perframe = []\n",
        "      predicted_box = gt[0]\n",
        "      predicted_box2 = gt[0]\n",
        "      start = time.time()\n",
        "      for f in range(len(frames) - start_frame):\n",
        "        img = cv2.imread(frames[f + start_frame])\n",
        "        img = cv2.cvtColor(img, cv2.COLOR_BGR2RGB)\n",
        "        predicted_box=predict(model,img,predicted_box)\n",
        "        predicted_box =  standardize_bbox(img, predicted_box)\n",
        "\n",
        "        #predicted_box2 = predict(model, img,predicted_box2) if we want to compare 2 models\n",
        "        #predicted_box2 =  standardize_bbox(img, predicted_box2) if you want to compare at the same time two models uncomment\n",
        "        boxes_m1.append(predicted_box)\n",
        "        #boxes_m2.append(predicted_bbox)\n",
        "      end = time.time()\n",
        "      time_perframe = (start-end)/len(frames)\n",
        "      all_boxes.append(boxes_m1)\n",
        "      #all_boxes2.append(boxes_m2)\n",
        "      time_perframe_for_each_video.append(time_perframe)\n",
        "    return all_boxes, all_gt , time_perframe_for_each_video # if yu want to compare two models add here all_boxes2\n",
        "\n",
        "adnet_model = ADNET()\n",
        "adnet_model.build()\n",
        "#WEIGHTS_PATH = \"checkpoints/derek-19-12-2021_012730.h5\"\n",
        "#weights = hdf5storage.loadmat(YIFAN_WEIGHTS_PATH)\n",
        "adnet_model.load_weights(\"/content/gdrive/My Drive/EE6885/kaan-weights\")\n",
        "all_boxes, all_gt , time_perframe_for_each_video = test_metrics(adnet_model , adnet_model)\n",
        "print (all_boxes)\n",
        "print(all_gt)"
      ]
    },
    {
      "cell_type": "code",
      "execution_count": 43,
      "metadata": {
        "id": "BBBRcPEAohhe"
      },
      "outputs": [],
      "source": [
        "from scipy.spatial.kdtree import distance_matrix\n",
        "from scipy.spatial import distance\n",
        "\n",
        "def calculate_precision(trackerresults, groundtruth, threshold):\n",
        "  \"\"\"\n",
        "  Input: List of bounding box results from tracker, ground truth file, location error threshold\n",
        "  Output: Returns the percentage of points whose center point has a euclidean distance that is less than the\n",
        "          threshold away from the groudtruth\n",
        "  x, y, w, h = bbox\n",
        "  \"\"\"\n",
        "   # Iterate through each frame, find the center for each frame and calculate the \n",
        "   # euclidean distance between the tracker and groundtruth\n",
        "  result = 0\n",
        "  pts = 0\n",
        "  for bbox1, bbox2 in zip(trackerresults, groundtruth):\n",
        "    #X and y indicate top left corner\n",
        "    x1, y1, w1, h1 = bbox1\n",
        "    center1 = [x1-.5*w1, y1-.5*h1]\n",
        "    x2, y2, w2, h2 = bbox2\n",
        "    center2 = [x2-.5*w2, y2-.5*h2]\n",
        "    dist = distance.euclidean(center1, center2)\n",
        "    #print(\"DICT\", dist)\n",
        "    pts += 1\n",
        "    if dist <= threshold:\n",
        "      result += 1\n",
        "\n",
        "  result = result/pts\n",
        "\n",
        "\n",
        "  return result\n",
        "\n"
      ]
    },
    {
      "cell_type": "code",
      "execution_count": 63,
      "metadata": {
        "id": "Rxn7JR1fRTpW"
      },
      "outputs": [],
      "source": [
        "import matplotlib as plt\n",
        "import decimal as d\n",
        "\n",
        "def graph_precision_plot(trackerresults, groundtruth):\n",
        "  #1: Iterate through every threshold\n",
        "  precisions = []# np.zeros((50,), dtype=int) \n",
        "  thresholds = np.arange(0, 50, 1)\n",
        "  i=0\n",
        "  for threshold in thresholds: #(Threshold in pixels)\n",
        "  #2: Iterate through every video \n",
        "    num_vids = float(0)\n",
        "    precision = 0\n",
        "    for bboxes1, bboxes2 in zip(trackerresults, groundtruth):\n",
        "      temp = calculate_precision(bboxes1,bboxes2,threshold)\n",
        "      precision = precision + temp\n",
        "      num_vids += 1.0000000000\n",
        "    #print(type(precision), type(num_vids))\n",
        "    precisions.append(float(precision)/float(num_vids))\n",
        "    i+=1\n",
        "    #print(precision,precisions[threshold])\n",
        "\n",
        "\n",
        "  #3: Graph average percision of all videos vs threshold\n",
        "\n",
        "  # plotting the points\n",
        "  plt.pyplot.plot(thresholds, precisions)\n",
        " \n",
        "  # naming the x axis\n",
        "  plt.pyplot.xlabel('Location Error Threshold')\n",
        "  # naming the y axis\n",
        "  plt.pyplot.ylabel('Precision')\n",
        " \n",
        "  # giving a title to my graph\n",
        "  plt.pyplot.title('Precision Plots of OPE')\n",
        " \n",
        "  # function to show the plot\n",
        "  plt.pyplot.savefig('Precision.png')\n",
        "  plt.pyplot.show()\n",
        "\n",
        "\n",
        "def graph_success_plot(trackerresults, groundtruth):\n",
        "  #1 Iterate through overlap threshold\n",
        "  successes = np.zeros((100,), dtype=int) \n",
        "  thresholds = np.arange(0, 1, .01)\n",
        "  i = 0\n",
        "  for threshold in thresholds: #(Threshold in pixels)\n",
        "\n",
        "  #2 Iterate through every video\n",
        "\n",
        "    num_vids = 0\n",
        "    success = 0\n",
        "    for bboxes1, bboxes2 in zip(trackerresults, groundtruth): \n",
        "      success += calculate_success(bboxes1,bboxes2,threshold)\n",
        "      num_vids += 1\n",
        "\n",
        "    successes[i] = success//float(num_vids)\n",
        "    i +=1\n",
        "  #3 Graph average success vs threshold\n",
        "\n",
        "  # plotting the points\n",
        "  plt.pyplot.plot(thresholds, successes)\n",
        " \n",
        "  # naming the x axis\n",
        "  plt.pyplot.xlabel('Overlap Threshold')\n",
        "  # naming the y axis\n",
        "  plt.pyplot.ylabel('Success Rate')\n",
        " \n",
        "  # giving a title to my graph\n",
        "  plt.pyplot.title('Success Plots of OPE')\n",
        " \n",
        "  # function to show the plot\n",
        "  plt.pyplot.show()"
      ]
    },
    {
      "cell_type": "code",
      "execution_count": 48,
      "metadata": {
        "id": "Rfv8ymv1RTpW"
      },
      "outputs": [],
      "source": [
        "import numpy as np\n",
        "def calculate_IOU(bbox1: np.array, bbox2: np.array):\n",
        "    \"\"\"\n",
        "    input is single bounding box for tracker and groundtruth\n",
        "    output is IOU\n",
        "    \"\"\"\n",
        "    x1, y1, w1, h1 = bbox1\n",
        "    x2, y2, w2, h2 = bbox2\n",
        "    #print(bbox1)\n",
        "    #print(bbox2)      \n",
        "    i_x1 = max(x1, x2)\n",
        "    i_y1 = max(y1, y2)\n",
        "    i_x2 = min(x1 + w1, x2 + w2)\n",
        "    i_y2 = min(y1 + h1, y2 + h2)\n",
        "    if i_x1 >= i_x2 or i_y1 >= i_y2:\n",
        "      #print(\"fck\")\n",
        "      return 0.0\n",
        "\n",
        "    intersection_area = (i_x2 - i_x1) * (i_y2 - i_y1)\n",
        "    box1_area = w1 * h1\n",
        "    box2_area = w2 * h2\n",
        "    \n",
        "    iou = intersection_area / float(box1_area + box2_area - intersection_area)\n",
        "    #print(iou)\n",
        "    return iou\n",
        "\n",
        "\n",
        "def calculate_success(trackerresults, groundtruth, threshold):\n",
        "\n",
        "  result = 0\n",
        "  pts = 0 \n",
        "  for bbox1, bbox2 in zip(trackerresults, groundtruth):\n",
        "    IOU = calculate_IOU(bbox1, bbox2)\n",
        "    pts += 1\n",
        "    if IOU > threshold:\n",
        "      result += 1\n",
        "\n",
        "  result = result/pts\n",
        "\n",
        "  return result\n"
      ]
    },
    {
      "cell_type": "code",
      "execution_count": 64,
      "metadata": {
        "id": "o_vlmduuRTpW",
        "colab": {
          "base_uri": "https://localhost:8080/",
          "height": 573
        },
        "outputId": "3d973b7a-dac9-40d5-967a-340159ecb9fd"
      },
      "outputs": [
        {
          "output_type": "display_data",
          "data": {
            "image/png": "[encoded data removed]",
            "text/plain": [
              "<Figure size 432x288 with 1 Axes>"
            ]
          },
          "metadata": {
            "needs_background": "light"
          }
        },
        {
          "output_type": "display_data",
          "data": {
            "image/png": "[encoded data removed]",
            "text/plain": [
              "<Figure size 432x288 with 1 Axes>"
            ]
          },
          "metadata": {
            "needs_background": "light"
          }
        }
      ],
      "source": [
        "graph_precision_plot(all_boxes, all_gt)\n",
        "\n",
        "graph_success_plot(all_boxes, all_gt)\n",
        "\n"
      ]
    },
    {
      "cell_type": "code",
      "execution_count": 83,
      "metadata": {
        "colab": {
          "base_uri": "https://localhost:8080/",
          "height": 354
        },
        "id": "qwWLeN9ADddd",
        "outputId": "99d09435-0bce-491e-e25f-5489cfef567d"
      },
      "outputs": [
        {
          "output_type": "stream",
          "name": "stdout",
          "text": [
            "[-0.00713363  0.07114379 -0.07428524  0.07145377  0.0156135  -0.019175\n",
            " -0.09119136  0.03051658 -0.00594305 -0.0074066   0.01578237]\n",
            "10\n"
          ]
        },
        {
          "output_type": "execute_result",
          "data": {
            "text/plain": [
              "Text(0.5, 1.0, 'Squared weights for each action of the action vector')"
            ]
          },
          "metadata": {},
          "execution_count": 83
        },
        {
          "output_type": "display_data",
          "data": {
            "image/png": "[encoded data removed]",
            "text/plain": [
              "<Figure size 432x288 with 1 Axes>"
            ]
          },
          "metadata": {
            "needs_background": "light"
          }
        }
      ],
      "source": [
        "from tensorflow import keras\n",
        "##adnet_model = ADNET()\n",
        "#adnet_model.build()\n",
        "#WEIGHTS_PATH = \"checkpoints/derek-19-12-2021_012730.h5\"\n",
        "#weights = hdf5storage.loadmat(YIFAN_WEIGHTS_PATH)\n",
        "#adnet_model.load_weights(WEIGHTS_PATH)\n",
        "last_layer = adnet_model.layers[8].get_weights()[0]\n",
        "print(last_layer[0][0][621])\n",
        "w =[]\n",
        "#QUESTION ABOUT THIS ONE\n",
        "#take last 110x11 values of the last layer weights because the other 512 come from the concatanation should it be the last or the first ones?\n",
        "#every 10 lists of 11 we are moving back one action...\n",
        "for i in range(512,622-10,10):\n",
        "  sum=0\n",
        "  for j in range(10):\n",
        "    squared_numbers = [number ** 2 for number in last_layer[0][0][i+j]]\n",
        "    sum += np.sum(squared_numbers)\n",
        "  w.append(sum)\n",
        "\n",
        "print(len(w))\n",
        "import seaborn as sns\n",
        "import matplotlib.pyplot as plt\n",
        "\n",
        "x = range(1,11)\n",
        "\n",
        "plot = sns.lineplot (x=x , y=w)\n",
        "#should be high in the beggining low at the end\n",
        "\n",
        "plot.set_title(\"Squared weights for each action of the action vector\")\n",
        "\n",
        "\n",
        "\n",
        "\n"
      ]
    },
    {
      "cell_type": "code",
      "source": [
        "#heatmap of action weight vector should have more intense colors towards the beggining\n",
        "print(last_layer[0][0].size)\n",
        "last_layer2 = adnet_model.layers[9].get_weights()[0]\n",
        "print(last_layer2.size)\n",
        "\n",
        "ax = sns.heatmap(last_layer[0][0])"
      ],
      "metadata": {
        "colab": {
          "base_uri": "https://localhost:8080/",
          "height": 306
        },
        "id": "eUzfNZl3a2yJ",
        "outputId": "c72cbad0-8c38-46f7-d00d-4c196396169f"
      },
      "execution_count": 66,
      "outputs": [
        {
          "output_type": "stream",
          "name": "stdout",
          "text": [
            "6842\n",
            "1244\n"
          ]
        },
        {
          "output_type": "display_data",
          "data": {
            "image/png": "[encoded data removed]",
            "text/plain": [
              "<Figure size 432x288 with 2 Axes>"
            ]
          },
          "metadata": {
            "needs_background": "light"
          }
        }
      ]
    },
    {
      "cell_type": "code",
      "source": [
        "def standardize_bbox(img: np.array, bbox: np.array):\n",
        "  '''\n",
        "  Refits the bounding box to ensure that it is valid. X and Y get clipped first.\n",
        "  Assumes reasonable bounding boxes and solely for the bad data we found in\n",
        "  our ground truth dataset\n",
        "  '''\n",
        "  x, y, w, h = bbox\n",
        "  nx, ny, nw, nh = bbox\n",
        "\n",
        "  is_invalid = False\n",
        "  import pdb\n",
        "  # pdb.set_trace()\n",
        "  if x < 0 or x + w >= img.shape[1]:\n",
        "    w = np.clip(w, MIN_WINDOW_SIZE, img.shape[1])\n",
        "    # clip whichever keeps the most area    \n",
        "    x1 = np.clip(x, 0, img.shape[1] - 1)\n",
        "    w1 = np.clip(w, MIN_WINDOW_SIZE, img.shape[1] - x1)\n",
        "    x2 = np.clip(x, 0, img.shape[1] - w)\n",
        "    w2 = np.clip(w, MIN_WINDOW_SIZE, img.shape[1])\n",
        "    nx, nw = (x1, w1) if x1 + w1 > x2 + w2 else (x2, w2)\n",
        "    is_invalid = True\n",
        "\n",
        "  if y < 0 or y + h >= img.shape[0]:\n",
        "    h = np.clip(h, MIN_WINDOW_SIZE, img.shape[0])\n",
        "    # clip whichever keeps the most area\n",
        "    y1 = np.clip(y, 0, img.shape[0] - 1)\n",
        "    h1 = np.clip(h, MIN_WINDOW_SIZE, img.shape[0] - y1)\n",
        "    y2 = np.clip(y, 0, img.shape[0] - h)\n",
        "    h2 = np.clip(h, MIN_WINDOW_SIZE, img.shape[0])\n",
        "    ny, nh = (y1, h1) if y1 + h1 > y2 + h2 else (y2, h2)\n",
        "    is_invalid = True\n",
        "  \n",
        "  stdzd_bbox = np.array([nx, ny, nw, nh])\n",
        "  if is_invalid: \n",
        "    print(\"WARNING: Bounding box: {0} had to be standardized to {1}\".format(bbox, stdzd_bbox))\n",
        "  return stdzd_bbox"
      ],
      "metadata": {
        "id": "4s7is9yld2Sd"
      },
      "execution_count": 41,
      "outputs": []
    },
    {
      "cell_type": "code",
      "source": [
        "# to create AUC PLOT IF YOU WANT ADD TRACKERS NOT IN BENCHMARK WITH GREATER AUCs as well https://paperswithcode.com/sota/visual-object-tracking-on-otb-2013\n",
        "x = [\n",
        "'STRUCK',\n",
        "'SCM'\t,\n",
        "'ASLA',\n",
        "'TLD'\t,\n",
        "'CXT'\t,\n",
        "\n",
        "'VTD',\n",
        "'VTS'\t,\n",
        "'CSK',\n",
        "'LSK' ,\n",
        "'DFT'\t,\n",
        "\n",
        "'EE6885']\n",
        "\n",
        "y = [0.473, 0.499, 0.434, 0.437, 0.424,0.416,0.416, 0.398,0.395,0.389,0]\n",
        "plot2 = sns.barplot(x=x, y=y)\n",
        "plot2.set_title(\"AUC of top trackers from OTB Benchmark\")\n",
        "plt.savefig('AUC.png')\n",
        "\n",
        "\n"
      ],
      "metadata": {
        "id": "9EL0CnIh2rcS",
        "colab": {
          "base_uri": "https://localhost:8080/",
          "height": 281
        },
        "outputId": "1b8aaf10-2dbe-48a8-8786-5bb7f4ae94bf"
      },
      "execution_count": 60,
      "outputs": [
        {
          "output_type": "display_data",
          "data": {
            "image/png": "[encoded data removed]",
            "text/plain": [
              "<Figure size 432x288 with 1 Axes>"
            ]
          },
          "metadata": {
            "needs_background": "light"
          }
        }
      ]
    }
  ],
  "metadata": {
    "accelerator": "GPU",
    "colab": {
      "background_execution": "on",
      "collapsed_sections": [],
      "machine_shape": "hm",
      "name": "results.ipynb",
      "provenance": []
    },
    "kernelspec": {
      "display_name": "Python 3",
      "language": "python",
      "name": "python3"
    },
    "language_info": {
      "codemirror_mode": {
        "name": "ipython",
        "version": 3
      },
      "file_extension": ".py",
      "mimetype": "text/x-python",
      "name": "python",
      "nbconvert_exporter": "python",
      "pygments_lexer": "ipython3",
      "version": "3.8.8"
    }
  },
  "nbformat": 4,
  "nbformat_minor": 0
}
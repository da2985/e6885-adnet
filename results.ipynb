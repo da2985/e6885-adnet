{
  "cells": [
    {
      "cell_type": "markdown",
      "metadata": {
        "id": "view-in-github"
      },
      "source": [
        "<a href=\"https://colab.research.google.com/github/da2985/e6885-adnet/blob/main/reinforce.ipynb\" target=\"_parent\"><img src=\"https://colab.research.google.com/assets/colab-badge.svg\" alt=\"Open In Colab\"/></a>"
      ]
    },
    {
      "cell_type": "markdown",
      "metadata": {
        "id": "1c1BWwgpSXW9"
      },
      "source": [
        "# Imports & Starting Configs\n",
        "\n",
        "Please use the following two lines to load from Google Drive\n",
        "\n",
        "If your file is not there, upload it to https://drive.google.com/drive/folders/1tsPKyB2E1nW8Qw--kZ9GaeGW2u2-XoV6?usp=sharing"
      ]
    },
    {
      "cell_type": "code",
      "execution_count": 32,
      "metadata": {
        "colab": {
          "base_uri": "https://localhost:8080/"
        },
        "id": "vqT6TJ9DLT5v",
        "outputId": "1adcb01a-db91-41f5-d0d3-861ebe4416e3"
      },
      "outputs": [
        {
          "output_type": "stream",
          "name": "stdout",
          "text": [
            "Drive already mounted at /content/gdrive; to attempt to forcibly remount, call drive.mount(\"/content/gdrive\", force_remount=True).\n"
          ]
        }
      ],
      "source": [
        "# This must be run within a Google Colab environment \n",
        "from google.colab import drive  \n",
        "drive.mount('/content/gdrive')"
      ]
    },
    {
      "cell_type": "code",
      "execution_count": 2,
      "metadata": {
        "id": "2sTHMZwqNPlW"
      },
      "outputs": [],
      "source": [
        "import sys\n",
        "import os\n",
        "\n",
        "sys.path.append('/content/gdrive/EE6885')\n",
        "\n",
        "os.chdir(\"/content/gdrive/My Drive/EE6885\")"
      ]
    },
    {
      "cell_type": "code",
      "execution_count": 3,
      "metadata": {
        "colab": {
          "base_uri": "https://localhost:8080/"
        },
        "id": "EvlhZxrmdezd",
        "outputId": "12f193b1-7e94-4e85-d838-860d4a2ddd96"
      },
      "outputs": [
        {
          "output_type": "stream",
          "name": "stdout",
          "text": [
            "Basketball  Bolt  Car4\t    ClifBar  Doll      Fish    MotorRolling\n",
            "Bird2\t    Boy   CarDark   Crowds   Dudek     Human2  Skater\n",
            "BlurCar3    Car1  CarScale  Deer     FaceOcc2  Human6  Skating1\n"
          ]
        }
      ],
      "source": [
        "!ls adnet_datasets/OTB"
      ]
    },
    {
      "cell_type": "code",
      "execution_count": 4,
      "metadata": {
        "colab": {
          "base_uri": "https://localhost:8080/"
        },
        "id": "nNOHmxvDD8wD",
        "outputId": "961013a8-373a-40f9-ed4a-9162dfb06070"
      },
      "outputs": [
        {
          "output_type": "stream",
          "name": "stdout",
          "text": [
            "Collecting hdf5storage\n",
            "  Downloading hdf5storage-0.1.18-py2.py3-none-any.whl (53 kB)\n",
            "\u001b[?25l\r\u001b[K     |██████▏                         | 10 kB 26.3 MB/s eta 0:00:01\r\u001b[K     |████████████▍                   | 20 kB 23.1 MB/s eta 0:00:01\r\u001b[K     |██████████████████▌             | 30 kB 11.1 MB/s eta 0:00:01\r\u001b[K     |████████████████████████▊       | 40 kB 8.7 MB/s eta 0:00:01\r\u001b[K     |██████████████████████████████▉ | 51 kB 5.5 MB/s eta 0:00:01\r\u001b[K     |████████████████████████████████| 53 kB 1.2 MB/s \n",
            "\u001b[?25hCollecting tensorflow-addons\n",
            "  Downloading tensorflow_addons-0.15.0-cp37-cp37m-manylinux_2_12_x86_64.manylinux2010_x86_64.whl (1.1 MB)\n",
            "\u001b[K     |████████████████████████████████| 1.1 MB 10.3 MB/s \n",
            "\u001b[?25hRequirement already satisfied: h5py>=2.1 in /usr/local/lib/python3.7/dist-packages (from hdf5storage) (3.1.0)\n",
            "Requirement already satisfied: numpy in /usr/local/lib/python3.7/dist-packages (from hdf5storage) (1.19.5)\n",
            "Requirement already satisfied: cached-property in /usr/local/lib/python3.7/dist-packages (from h5py>=2.1->hdf5storage) (1.5.2)\n",
            "Requirement already satisfied: typeguard>=2.7 in /usr/local/lib/python3.7/dist-packages (from tensorflow-addons) (2.7.1)\n",
            "Installing collected packages: tensorflow-addons, hdf5storage\n",
            "Successfully installed hdf5storage-0.1.18 tensorflow-addons-0.15.0\n"
          ]
        }
      ],
      "source": [
        "pip install hdf5storage tensorflow-addons"
      ]
    },
    {
      "cell_type": "code",
      "execution_count": 5,
      "metadata": {
        "id": "gNmhYpyeDLrQ"
      },
      "outputs": [],
      "source": [
        "import numpy as np\n",
        "import tensorflow as tf\n",
        "import tensorflow_addons as tfa\n",
        "\n",
        "import tensorflow_probability as tfp\n",
        "from tensorflow.keras.optimizers import Adam, SGD\n",
        "from tensorflow.keras import regularizers\n",
        "import tensorflow.experimental.numpy as tnp\n",
        "\n",
        "import cv2\n",
        "import glob\n",
        "import hdf5storage\n",
        "import math\n",
        "import random\n",
        "import re\n",
        "\n",
        "import matplotlib.pyplot as plt\n",
        "import matplotlib.image as mpimg\n",
        "import matplotlib.patches as patches\n",
        "import scipy.io as sio\n",
        "\n",
        "import linecache\n",
        "\n",
        "from typing import Dict, List, Tuple\n",
        "from operator import add\n",
        "import copy\n",
        "\n",
        "from numpy.random import seed\n",
        "from datetime import datetime"
      ]
    },
    {
      "cell_type": "code",
      "execution_count": 6,
      "metadata": {
        "id": "UsXgP5KrEGNW"
      },
      "outputs": [],
      "source": [
        " %load_ext autoreload \n",
        " %autoreload 2"
      ]
    },
    {
      "cell_type": "markdown",
      "metadata": {
        "id": "HdgRU7dpw6t4"
      },
      "source": [
        "# Configurations"
      ]
    },
    {
      "cell_type": "code",
      "execution_count": 7,
      "metadata": {
        "id": "G3xZrSk9XdEA"
      },
      "outputs": [],
      "source": [
        "#@markdown Network configurations\n",
        "LEARNING_RATE = 1e-4 #@param {type:\"number\"}\n",
        "GOAL_IOU = 0.7 #@param {type:\"number\"}\n",
        "\n",
        "# The length of the action buffer\n",
        "L = 10 #@param {type:\"number\"}\n",
        "# Max Trajectory Length \n",
        "MAX_TRAJECTORY_LENGTH =  5#@param {type:\"number\"}\n",
        "POLICY_TYPE = \"stochastic\" #@param [\"deterministic\", \"stochastic\"] {type:\"string\"}\n",
        "DROPOUT_4 = 0.5 #@param {type:\"number\"}\n",
        "DROPOUT_5 = 0.5 #@param {type:\"number\"}\n",
        "N_EPOCHS =  300#@param {type:\"number\"}\n",
        "\n",
        "# Number of retries to collect sequence loss sum (to reduce variance)\n",
        "N_RETRIES =   1#@param {type:\"number\"}\n",
        "\n",
        "# Randomizes the order in which frames are trained on from a video clip\n",
        "RANDOMIZE_TRAINING = False #@param {type:\"boolean\"}\n",
        "\n",
        "# The paper uses sum. I thought avg would help address giant swings, but the training was taking way too long\n",
        "# with negligible updates\n",
        "GRAD_ACCUM_SCHEME = \"sum\" #@param [\"avg\", \"sum\"] {type:\"string\"}\n",
        "\n",
        "# Use to avoid overly long trajectories. \n",
        "# During trajectory collection, we were not receiving \n",
        "# enough positvie signals\n",
        "PREMATURE_BREAK = False #@param {type:\"boolean\"}\n",
        "\n",
        "\n",
        "#@markdown ---\n",
        "#@markdown Loss/Reward Constants\n",
        "# This is a probability offset for adding noise since log(P(a|s)=1)=0\n",
        "PROB_OFFSET = 1e-5 #@param {type:\"number\"} \n",
        "# This is the discount factor\n",
        "GAMMA = 1 #@param {type:\"number\"}\n",
        "\n",
        "# The paper uses final_bbox where only the final bounding box placement is accounted\n",
        "# in reward calculation. individ_bbox individually assign rewards per each bounding box.\n",
        "REWARD_SCHEME = \"final_bbox\" #@param [\"final_bbox\", \"individ_bbox\"] {type:\"string\"}\n",
        "\n",
        "#@markdown ---\n",
        "#@markdown Bounding Box/Patch Constants (probably avoid touching)\n",
        "ALPHA = 0.03 #@param {type:\"number\"}\n",
        "MIN_WINDOW_SIZE = 10 #@param {type:\"number\"}\n",
        "PATCH_X = 112 #@param {type:\"number\"}\n",
        "PATCH_Y = 112 #@param {type:\"number\"}\n",
        "N_CHANNELS = 3 #@param {type:\"number\"}\n",
        "\n",
        "#@markdown ---\n",
        "RANDOM_SEED = 6885\n",
        "\n",
        "\n",
        "\n",
        "\n",
        "\n"
      ]
    },
    {
      "cell_type": "code",
      "execution_count": 7,
      "metadata": {
        "id": "AQ4YPvJCt9Dg"
      },
      "outputs": [],
      "source": [
        "seed(RANDOM_SEED)\n",
        "tf.random.set_seed(RANDOM_SEED)\n",
        "\n",
        "DATASET_PATH = \"adnet_datasets/vot2019/*\" #@param {type:\"string\"}\n",
        "ALL_DATASETS_LIST = glob.glob(DATASET_PATH)"
      ]
    },
    {
      "cell_type": "markdown",
      "metadata": {
        "id": "QCB-wEWrfk6N"
      },
      "source": [
        "### Successful Configurations (Minimize Me Please)"
      ]
    },
    {
      "cell_type": "markdown",
      "metadata": {
        "id": "A8s6YHABjUG5"
      },
      "source": [
        "## Model Definitions"
      ]
    },
    {
      "cell_type": "code",
      "execution_count": 8,
      "metadata": {
        "colab": {
          "base_uri": "https://localhost:8080/"
        },
        "id": "cfRbj1tuEIyA",
        "outputId": "b3db753a-8790-499f-8509-38c958585be5"
      },
      "outputs": [
        {
          "output_type": "stream",
          "name": "stdout",
          "text": [
            "Num GPUs Available:  1\n"
          ]
        }
      ],
      "source": [
        "class ADNET(tf.keras.Model):\n",
        "\n",
        "    ACTION_DIM = 11\n",
        "    K = 10\n",
        "    CONF_SCORE_DIM = 2\n",
        "\n",
        "    def __init__(self):\n",
        "        super(ADNET, self).__init__()\n",
        "\n",
        "        self.action_history = tf.keras.layers.Input(shape = (1,1, ADNET.ACTION_DIM * ADNET.K))\n",
        "\n",
        "        self.conv1 = tf.keras.layers.Conv2D(filters = 96, kernel_size = (7, 7), strides = (2, 2), padding = 'VALID', activation = 'relu', name = 'conv_1')\n",
        "        self.max1  = tf.keras.layers.MaxPooling2D(pool_size=(3,3), strides = (1, 1), padding = 'VALID')\n",
        "        self.conv2 = tf.keras.layers.Conv2D(filters = 256, kernel_size = (5, 5), strides = (2, 2), padding = 'VALID', activation = 'relu', name = 'conv_2')\n",
        "        self.max2  = tf.keras.layers.MaxPool2D(pool_size=(3, 3), strides = (2, 2), padding = 'VALID')\n",
        "        self.conv3 = tf.keras.layers.Conv2D(filters = 512, kernel_size = (3, 3), strides = (2, 2), padding = 'VALID', activation = 'relu', name = 'conv_3')\n",
        "        self.max3  = tf.keras.layers.MaxPool2D(pool_size=(3, 3), strides = (1, 1), padding = 'VALID')\n",
        "        \n",
        "        self.fc1 = tf.keras.layers.Conv2D(filters = 512, kernel_size = (3, 3), padding = 'VALID', activation = 'relu', name = 'fc1')\n",
        "        self.fc2 = tf.keras.layers.Conv2D(filters = 512, kernel_size = (1,1), padding = 'VALID', activation = 'relu', name = 'fc2')\n",
        "        self.fc3 = tf.keras.layers.Conv2D(filters = 11, kernel_size = (1,1), padding = 'VALID', name = 'fc3',activation=\"softmax\")\n",
        "        self.fc4 = tf.keras.layers.Conv2D(filters = 2, kernel_size = (1,1), padding = 'VALID', name = 'fc4',activation=\"softmax\")\n",
        "\n",
        "        # TODO: ADD A SEED\n",
        "        self.dropout1=tf.keras.layers.Dropout(DROPOUT_4)\n",
        "        self.dropout2=tf.keras.layers.Dropout(DROPOUT_5)\n",
        "        \n",
        "\n",
        "    def build(self):\n",
        "      super(ADNET, self).build((None, 112, 112, 3))\n",
        "      self.action_history = np.zeros(shape = (1,1,1,110))\n",
        "\n",
        "\n",
        "    def call(self, input_tensor, training=False):\n",
        "        x = self.conv1(input_tensor)\n",
        "        x = self.max1(x)\n",
        "        x = self.conv2(x)\n",
        "        x = self.max2(x)\n",
        "        x = self.conv3(x)\n",
        "        x = self.max3(x)\n",
        "\n",
        "        x = self.fc1(x)\n",
        "        x = self.dropout1(x)\n",
        "        x = self.fc2(x)\n",
        "        x = self.dropout2(x)\n",
        "        x = tf.keras.layers.Concatenate(axis=-1)([x, self.action_history])\n",
        "        action = self.fc3(x)\n",
        "        confidence = self.fc4(x)\n",
        "        return [action, confidence]\n",
        "\n",
        "\n",
        "    def compile(self, optimizer):\n",
        "   \t\tsuper().compile(optimizer, loss={\n",
        "         'output_1':tf.keras.losses.SparseCategoricalCrossentropy(from_logits=False),\n",
        "         'output_2': tf.keras.losses.SparseCategoricalCrossentropy(from_logits=False)\n",
        "         })\n",
        "     \n",
        "    def getEmbedding(self,input_tensor):\n",
        "        x = self.conv1(input_tensor)\n",
        "        x = self.max1(x)\n",
        "        x = self.conv2(x)\n",
        "        x = self.max2(x)\n",
        "        x = self.conv3(x)\n",
        "        x = self.max3(x)\n",
        "        return tf.reshape(x,(-1,))\n",
        "\n",
        "    def getFC1(self,input_tensor):\n",
        "        x = self.conv1(input_tensor)\n",
        "        x = self.max1(x)\n",
        "        x = self.conv2(x)\n",
        "        x = self.max2(x)\n",
        "        x = self.conv3(x)\n",
        "        x = self.max3(x)\n",
        "        x = self.fc1(x)\n",
        "        return x\n",
        "\n",
        "    def setActionHistory(self, action_history):\n",
        "      self.action_history = action_history.reshape(\n",
        "          (1, 1, 1, ADNET.ACTION_DIM * ADNET.K))\n",
        "\n",
        "    def updateActionHistory(self, a: int=8) -> tnp.ndarray:\n",
        "      '''\n",
        "      Left-to-right FIFO queue of actions\n",
        "      '''\n",
        "      ah = np.array(self.action_history).flatten()\n",
        "      ah[ADNET.ACTION_DIM:] = ah[:-ADNET.ACTION_DIM]\n",
        "      ah[:ADNET.ACTION_DIM] = 0 \n",
        "      ah[a] = 1\n",
        "      self.setActionHistory(ah)\n",
        "      return ah\n",
        "\n",
        "    def clearActionHistory(self):\n",
        "      self.action_history = tf.zeros((1, 1, 1, ADNET.ACTION_DIM * ADNET.K))\n",
        "\n",
        "    def getPrettyActionHistory(self):\n",
        "      action_hist = tf.reshape(model.action_history, [-1])\n",
        "      sbuffer = \"[\"\n",
        "      for i, x in enumerate(action_hist):\n",
        "        if i > 0 and i % model.ACTION_DIM == 0:\n",
        "          sbuffer+= \"\\x1b[35m,\\x1b[0m\"\n",
        "        if x == 1:\n",
        "          sbuffer += \"\\x1b[35m{0}\\x1b[0m\".format(int(x))\n",
        "        else:\n",
        "          sbuffer += \"{0}\".format(int(x))\n",
        "      sbuffer += \"]\"\n",
        "      return sbuffer \n",
        "\n",
        "\n",
        "    def debugModelSummary(self):\n",
        "      '''\n",
        "      call model.debugModelSummary().summary() to get around the inconvenience \n",
        "      from model.summary() returning 'multiple' for each layer's output shape\n",
        "      '''\n",
        "      dummyInput = tf.keras.layers.Input(shape = (112,112,3))\n",
        "      return tf.keras.Model(inputs=[dummyInput], outputs = self.call(dummyInput))\n",
        "\n",
        "def setWeights(model, weights, weights2):\n",
        "  model.layers[0].set_weights([weights2[\"conv1f\"],tf.reshape(weights2[\"conv1b\"],(96,))])\n",
        "  model.layers[2].set_weights([weights2[\"conv2f\"],tf.reshape(weights2[\"conv2b\"],(256,))])\n",
        "  model.layers[4].set_weights([weights2[\"conv3f\"],tf.reshape(weights2[\"conv3b\"],(512,))])\n",
        "  \n",
        "  model.layers[6].set_weights([weights[\"fc4f\"],tf.reshape(weights[\"fc4b\"],(512,))])\n",
        "  model.layers[7].set_weights([weights[\"fc5f\"],tf.reshape(weights[\"fc5b\"],(512,))])\n",
        "  model.layers[8].set_weights([weights[\"fc6_1f\"],tf.zeros(11)])\n",
        "  model.layers[9].set_weights([weights[\"fc6_2f\"],tf.zeros(2)])\n",
        "  \n",
        "  return model\n",
        "\n",
        "print(\"Num GPUs Available: \", len(tf.config.list_physical_devices('GPU')))"
      ]
    },
    {
      "cell_type": "markdown",
      "metadata": {
        "id": "jcjMuA1EjRsE"
      },
      "source": [
        "# Helper Functions"
      ]
    },
    {
      "cell_type": "markdown",
      "metadata": {
        "id": "xY2WCmjC2gLN"
      },
      "source": [
        "### Plotting & Debugging"
      ]
    },
    {
      "cell_type": "code",
      "execution_count": 9,
      "metadata": {
        "colab": {
          "base_uri": "https://localhost:8080/",
          "height": 381
        },
        "id": "NtQ22_87T8MQ",
        "outputId": "8bb733e4-472b-4f35-ceac-5409c660c340"
      },
      "outputs": [
        {
          "output_type": "error",
          "ename": "FileNotFoundError",
          "evalue": "ignored",
          "traceback": [
            "\u001b[0;31m---------------------------------------------------------------------------\u001b[0m",
            "\u001b[0;31mFileNotFoundError\u001b[0m                         Traceback (most recent call last)",
            "\u001b[0;32m<ipython-input-9-4b22b142c3b7>\u001b[0m in \u001b[0;36m<module>\u001b[0;34m()\u001b[0m\n\u001b[1;32m     61\u001b[0m \u001b[0;34m\u001b[0m\u001b[0m\n\u001b[1;32m     62\u001b[0m \u001b[0;31m# print(plotDatasetImageBBox(\"adnet_datasets/OTB/Basketball\", 50)[0])\u001b[0m\u001b[0;34m\u001b[0m\u001b[0;34m\u001b[0m\u001b[0;34m\u001b[0m\u001b[0m\n\u001b[0;32m---> 63\u001b[0;31m \u001b[0mprint\u001b[0m\u001b[0;34m(\u001b[0m\u001b[0mplotDatasetImageBBox\u001b[0m\u001b[0;34m(\u001b[0m\u001b[0;34m\"adnet_datasets/OTB/BlurBody\"\u001b[0m\u001b[0;34m,\u001b[0m \u001b[0;36m10\u001b[0m\u001b[0;34m)\u001b[0m\u001b[0;34m[\u001b[0m\u001b[0;36m0\u001b[0m\u001b[0;34m]\u001b[0m\u001b[0;34m)\u001b[0m\u001b[0;34m\u001b[0m\u001b[0;34m\u001b[0m\u001b[0m\n\u001b[0m",
            "\u001b[0;32m<ipython-input-9-4b22b142c3b7>\u001b[0m in \u001b[0;36mplotDatasetImageBBox\u001b[0;34m(dataset, frame_no)\u001b[0m\n\u001b[1;32m     55\u001b[0m   '''\n\u001b[1;32m     56\u001b[0m   \u001b[0mimgs\u001b[0m \u001b[0;34m=\u001b[0m \u001b[0msorted\u001b[0m\u001b[0;34m(\u001b[0m\u001b[0mglob\u001b[0m\u001b[0;34m.\u001b[0m\u001b[0mglob\u001b[0m\u001b[0;34m(\u001b[0m\u001b[0;34m\"{0}/img/*\"\u001b[0m\u001b[0;34m.\u001b[0m\u001b[0mformat\u001b[0m\u001b[0;34m(\u001b[0m\u001b[0mdataset\u001b[0m\u001b[0;34m)\u001b[0m\u001b[0;34m)\u001b[0m\u001b[0;34m)\u001b[0m\u001b[0;34m\u001b[0m\u001b[0;34m\u001b[0m\u001b[0m\n\u001b[0;32m---> 57\u001b[0;31m   \u001b[0mgt\u001b[0m \u001b[0;34m=\u001b[0m \u001b[0mget_ground_truths\u001b[0m\u001b[0;34m(\u001b[0m\u001b[0;34m\"{0}/groundtruth_rect.txt\"\u001b[0m\u001b[0;34m.\u001b[0m\u001b[0mformat\u001b[0m\u001b[0;34m(\u001b[0m\u001b[0mdataset\u001b[0m\u001b[0;34m)\u001b[0m\u001b[0;34m)\u001b[0m\u001b[0;34m\u001b[0m\u001b[0;34m\u001b[0m\u001b[0m\n\u001b[0m\u001b[1;32m     58\u001b[0m   \u001b[0mplotImageBBox\u001b[0m\u001b[0;34m(\u001b[0m\u001b[0mimgs\u001b[0m\u001b[0;34m[\u001b[0m\u001b[0mframe_no\u001b[0m\u001b[0;34m]\u001b[0m\u001b[0;34m,\u001b[0m \u001b[0mgt\u001b[0m\u001b[0;34m[\u001b[0m\u001b[0mframe_no\u001b[0m\u001b[0;34m]\u001b[0m\u001b[0;34m)\u001b[0m\u001b[0;34m\u001b[0m\u001b[0;34m\u001b[0m\u001b[0m\n\u001b[1;32m     59\u001b[0m   \u001b[0;32mreturn\u001b[0m \u001b[0mgt\u001b[0m\u001b[0;34m[\u001b[0m\u001b[0mframe_no\u001b[0m\u001b[0;34m]\u001b[0m\u001b[0;34m,\u001b[0m \u001b[0mframe_no\u001b[0m\u001b[0;34m\u001b[0m\u001b[0;34m\u001b[0m\u001b[0m\n",
            "\u001b[0;32m<ipython-input-9-4b22b142c3b7>\u001b[0m in \u001b[0;36mget_ground_truths\u001b[0;34m(ground_truth_file)\u001b[0m\n\u001b[1;32m      3\u001b[0m   \u001b[0mUse\u001b[0m \u001b[0mme\u001b[0m \u001b[0mto\u001b[0m \u001b[0mconvert\u001b[0m \u001b[0ma\u001b[0m \u001b[0mground_truth_file\u001b[0m \u001b[0mto\u001b[0m \u001b[0ma\u001b[0m \u001b[0mnumpy\u001b[0m \u001b[0marray\u001b[0m\u001b[0;34m\u001b[0m\u001b[0;34m\u001b[0m\u001b[0m\n\u001b[1;32m      4\u001b[0m   '''\n\u001b[0;32m----> 5\u001b[0;31m   \u001b[0;32mwith\u001b[0m \u001b[0mopen\u001b[0m\u001b[0;34m(\u001b[0m\u001b[0mground_truth_file\u001b[0m\u001b[0;34m)\u001b[0m \u001b[0;32mas\u001b[0m \u001b[0mf\u001b[0m\u001b[0;34m:\u001b[0m\u001b[0;34m\u001b[0m\u001b[0;34m\u001b[0m\u001b[0m\n\u001b[0m\u001b[1;32m      6\u001b[0m     \u001b[0mground_truths\u001b[0m \u001b[0;34m=\u001b[0m \u001b[0mf\u001b[0m\u001b[0;34m.\u001b[0m\u001b[0mreadlines\u001b[0m\u001b[0;34m(\u001b[0m\u001b[0;34m)\u001b[0m\u001b[0;34m\u001b[0m\u001b[0;34m\u001b[0m\u001b[0m\n\u001b[1;32m      7\u001b[0m     \u001b[0mto_nparray\u001b[0m \u001b[0;34m=\u001b[0m \u001b[0;32mlambda\u001b[0m \u001b[0ms\u001b[0m\u001b[0;34m:\u001b[0m \u001b[0mnp\u001b[0m\u001b[0;34m.\u001b[0m\u001b[0marray\u001b[0m\u001b[0;34m(\u001b[0m\u001b[0mre\u001b[0m\u001b[0;34m.\u001b[0m\u001b[0mfindall\u001b[0m\u001b[0;34m(\u001b[0m\u001b[0;34m'\\d+'\u001b[0m\u001b[0;34m,\u001b[0m \u001b[0ms\u001b[0m\u001b[0;34m)\u001b[0m\u001b[0;34m,\u001b[0m \u001b[0mdtype\u001b[0m\u001b[0;34m=\u001b[0m\u001b[0mint\u001b[0m\u001b[0;34m)\u001b[0m\u001b[0;34m\u001b[0m\u001b[0;34m\u001b[0m\u001b[0m\n",
            "\u001b[0;31mFileNotFoundError\u001b[0m: [Errno 2] No such file or directory: 'adnet_datasets/OTB/BlurBody/groundtruth_rect.txt'"
          ]
        }
      ],
      "source": [
        "def get_ground_truths(ground_truth_file: str) -> np.array:\n",
        "  '''\n",
        "  Use me to convert a ground_truth_file to a numpy array\n",
        "  '''\n",
        "  with open(ground_truth_file) as f:\n",
        "    ground_truths = f.readlines()\n",
        "    to_nparray = lambda s: np.array(re.findall('\\d+', s), dtype=int)\n",
        "    truths = list(map(to_nparray, ground_truths))\n",
        "    return np.asarray(truths)\n",
        "  return None\n",
        "\n",
        "def plotNpImageBBox(img: np.array, bbox: np.array) -> np.array:\n",
        "  '''\n",
        "  Plots the bounding box on an image and returns the bounding box\n",
        "  '''\n",
        "  fig, ax = plt.subplots()\n",
        "  x, y, w, h = bbox\n",
        "  rect = patches.Rectangle((x, y), w, h, linewidth=1, edgecolor='r', facecolor='none')\n",
        "  ax.add_patch(rect)\n",
        "  plt.imshow(img)\n",
        "  return bbox\n",
        "\n",
        "def plotNpImageBBoxes(img: np.array, src_bbox: np.array, target_bbox: np.array, \n",
        "                      pred_bbox: np.array) -> np.array:\n",
        "  '''\n",
        "  Plots the bounding boxes on an image and returns the bounding box\n",
        "  '''\n",
        "  fig, ax = plt.subplots()\n",
        "  x1, y1, w1, h1 = src_bbox\n",
        "  x2, y2, w2, h2 = target_bbox\n",
        "  x3, y3, w3, h3 = pred_bbox\n",
        "  rect1 = patches.Rectangle((x1, y1), w1, h1, linewidth=1, edgecolor='b', facecolor='none')\n",
        "  rect2 = patches.Rectangle((x2, y2), w2, h2, linewidth=1, edgecolor='g', facecolor='none')\n",
        "  rect3 = patches.Rectangle((x3, y3), w3, h3, linewidth=1, edgecolor='r', facecolor='none')\n",
        "  ax.add_patch(rect1)\n",
        "  ax.add_patch(rect2)\n",
        "  ax.add_patch(rect3)\n",
        "  plt.imshow(img)\n",
        "  return pred_bbox  \n",
        "\n",
        "def plotImageBBox(img: str, bbox: np.array) -> np.array:\n",
        "  '''\n",
        "  Plots the bounding box on an image (from given filepath) and returns the \n",
        "  bounding box\n",
        "  '''\n",
        "  img = cv2.imread(img)\n",
        "  img = cv2.cvtColor(img, cv2.COLOR_BGR2RGB)\n",
        "  plotNpImageBBox(img, bbox)\n",
        "  return bbox\n",
        "\n",
        "def plotDatasetImageBBox(dataset: str, frame_no: int) -> Tuple[np.array, int]:\n",
        "  '''\n",
        "  Plot an image's bounding box. Returns the ground truth and frame number.\n",
        "  WORKS FOR OTB100\n",
        "  '''\n",
        "  imgs = sorted(glob.glob(\"{0}/img/*\".format(dataset)))\n",
        "  gt = get_ground_truths(\"{0}/groundtruth_rect.txt\".format(dataset))\n",
        "  plotImageBBox(imgs[frame_no], gt[frame_no])\n",
        "  return gt[frame_no], frame_no\n",
        "\n",
        "\n",
        "# print(plotDatasetImageBBox(\"adnet_datasets/OTB/Basketball\", 50)[0])\n",
        "print(plotDatasetImageBBox(\"adnet_datasets/OTB/BlurBody\", 10)[0])"
      ]
    },
    {
      "cell_type": "markdown",
      "metadata": {
        "id": "rX5bfwFm2c80"
      },
      "source": [
        "### Movement"
      ]
    },
    {
      "cell_type": "code",
      "execution_count": 10,
      "metadata": {
        "id": "VzDdHq04ERNg"
      },
      "outputs": [],
      "source": [
        "STOP_ACTION_INDEX = 8\n",
        "\n",
        "def getFrame(f_path: str) -> np.array:\n",
        "  print(\"Frame path: {0}\".format(f_path))\n",
        "  img = cv2.imread(f_path)\n",
        "  return cv2.cvtColor(img, cv2.COLOR_BGR2RGB)\n",
        "\n",
        "\n",
        "def calculate_IOU(bbox1: np.array, bbox2: np.array):\n",
        "    x1, y1, w1, h1 = bbox1\n",
        "    x2, y2, w2, h2 = bbox2\n",
        "           \n",
        "    i_x1 = max(x1, x2)\n",
        "    i_y1 = max(y1, y2)\n",
        "    i_x2 = min(x1 + w1, x2 + w2)\n",
        "    i_y2 = min(y1 + h1, y2 + h2)\n",
        "    if i_x1 >= i_x2 or i_y1 >= i_y2:\n",
        "      return 0.0\n",
        "\n",
        "    intersection_area = (i_x2 - i_x1) * (i_y2 - i_y1)\n",
        "    box1_area = w1 * h1\n",
        "    box2_area = w2 * h2\n",
        "    \n",
        "    iou = intersection_area / float(box1_area + box2_area - intersection_area)\n",
        "    return iou\n",
        "\n",
        "\n",
        "def move(image: np.array, bbox: np.array, action: str, \n",
        "         stride_magnitude: int=1) -> np.array:\n",
        "  '''\n",
        "  Returns the new bounding box after taking an action: \n",
        "  {\"left\", \"right\", \"up\", \"down\"}. Use stride to indicate the step size.\n",
        "  '''\n",
        "  if action not in set([\"left\", \"right\", \"up\", \"down\"]):\n",
        "    raise RuntimeError(\"Invalid action taken :(\") \n",
        "  \n",
        "  x, y, w, h = bbox\n",
        "  if action in set([\"left\", \"right\"]):\n",
        "    step = max(1, int(ALPHA * w)) * stride_magnitude * (-1 if action==\"left\" else 1)\n",
        "    x = min(max(0, int(x + step)), int(image.shape[1] - w - 1)) \n",
        "  else:\n",
        "    step = max(1, int(ALPHA * h)) * stride_magnitude * (-1 if action==\"up\" else 1)\n",
        "    y = min(max(0, int(y + step)), int(image.shape[0] - h - 1)) \n",
        "\n",
        "  return np.array([x, y, w, h])\n",
        "\n",
        "\n",
        "def scale(image: np.array, bbox: np.array, scaleUp: bool):\n",
        "  x, y, w, h = bbox\n",
        "  deltaW, deltaH = max(2, ALPHA * w), max(2, ALPHA * h)\n",
        "  if not scaleUp: \n",
        "    deltaW *= -1\n",
        "    deltaH *= -1\n",
        "  nw = min(image.shape[1], max(MIN_WINDOW_SIZE, int(w + deltaW))) \n",
        "  nh = min(image.shape[0], max(MIN_WINDOW_SIZE, int(h + deltaH)))\n",
        "  \n",
        "\n",
        "  x = max(0, min(int(x - deltaW / 2), int(image.shape[1] - w - 1)))\n",
        "  y = max(0, min(int(y - deltaH / 2), int(image.shape[0] - h - 1)))\n",
        "  return np.array([x, y, nw, nh])\n",
        "\n",
        "\n",
        "def selectAction(img: np.array, bbox: np.array, index: int): \n",
        "  if index == 0 :\n",
        "    bbox = move(img, bbox, \"left\")\n",
        "  elif index == 1 :\n",
        "    bbox = move(img, bbox, \"left\", stride_magnitude=2)\n",
        "  elif index == 2 :\n",
        "    bbox = move(img, bbox, \"right\")\n",
        "  elif index == 3 :\n",
        "    bbox = move(img, bbox, \"right\", stride_magnitude=2)  \n",
        "  elif index == 4 :\n",
        "    bbox = move(img, bbox, \"up\")  \n",
        "  elif index == 5 :\n",
        "    bbox = move(img, bbox, \"up\", stride_magnitude=2)\n",
        "  elif index == 6 :\n",
        "    bbox = move(img, bbox, \"down\")\n",
        "  elif index == 7 :\n",
        "    bbox = move(img, bbox, \"down\", stride_magnitude=2)\n",
        "  elif index == 8:\n",
        "    bbox = bbox\n",
        "  elif index == 9 :\n",
        "    bbox = scale(img, bbox, False)     \n",
        "  elif index == 10 :\n",
        "    bbox = scale(img, bbox, True)    \n",
        "  else:\n",
        "    raise ValueError(\"Invalid action provided: {0}\".format(index))\n",
        "\n",
        "  x, y, w, h = bbox\n",
        "  # some of the data is just invalid :/\n",
        "  # assert 0 <= x <= img.shape[1] - w, \"x:{0}, w:{1} is out of bounds: [0, {2}]\".format(x, w, img.shape[1])\n",
        "  # assert 0 <= y <= img.shape[0] - h, \"y:{0}, h:{1} is out of bounds: [0, {2}]\".format(y, h, img.shape[0])\n",
        "  # assert MIN_WINDOW_SIZE <= w <= img.shape[1], \"w:{0}, is invalid\".format(w)\n",
        "  # assert MIN_WINDOW_SIZE <= h <= img.shape[0], \"h:{0} is invalid\".format(h)\n",
        "  return index, bbox\n",
        "\n",
        "\n",
        "def human_readable_action(index: int) -> str:\n",
        "  '''\n",
        "  Map action numbers to human readable strings\n",
        "  '''\n",
        "  def _get_action(index:int) -> str:\n",
        "    if index == 0:\n",
        "      return \"left\"\n",
        "    elif index == 1:\n",
        "      return \"2x left\"\n",
        "    elif index == 2:\n",
        "      return \"right\"\n",
        "    elif index == 3:\n",
        "      return \"2x right\"\n",
        "    elif index == 4:\n",
        "      return \"up\"\n",
        "    elif index == 5:\n",
        "      return \"2x up\"\n",
        "    elif index == 6:\n",
        "      return \"down\"\n",
        "    elif index == 7:\n",
        "      return \"2x down\"\n",
        "    elif index == 8:\n",
        "      return \"stop\"\n",
        "    elif index == 9:\n",
        "      return \"scale down\"\n",
        "    elif index == 10 :\n",
        "      return \"scale up\"\n",
        "  return _get_action(index).upper()\n",
        "\n",
        "\n",
        "def getAction(img: np.array, bbox: np.array, action_probs: np.array):  \n",
        "  a = -1\n",
        "  if POLICY_TYPE == \"deterministic\":\n",
        "    a = tf.math.argmax(action_probs)\n",
        "  else:\n",
        "    action_probs = np.array(action_probs) + PROB_OFFSET\n",
        "    action_probs /= action_probs.sum()\n",
        "  \n",
        "    a = np.random.choice(np.arange(len(action_probs)), p=action_probs)\n",
        "  return selectAction(img, bbox, a)\n",
        "\n",
        "\n",
        "def isStop(action: int):\n",
        "  return action == STOP_ACTION_INDEX\n"
      ]
    },
    {
      "cell_type": "markdown",
      "metadata": {
        "id": "ZLxdpmQ5jOjL"
      },
      "source": [
        "# REINFORCE Loop"
      ]
    },
    {
      "cell_type": "markdown",
      "metadata": {
        "id": "2CP9qJBgVq5B"
      },
      "source": [
        "### Trajectory Loss Function\n",
        "\n",
        "TODO: investigate adding https://www.analyticsvidhya.com/blog/2020/11/baseline-for-policy-gradients/\n",
        "Or rather https://arxiv.org/pdf/1301.2315.pdf"
      ]
    },
    {
      "cell_type": "markdown",
      "metadata": {
        "id": "dMujgGmUVu4k"
      },
      "source": [
        "### Tracking Procedure\n",
        "\n",
        "* This function collects trajectories either via argmax deterministic policy or sampling from a stochastic policy"
      ]
    },
    {
      "cell_type": "markdown",
      "metadata": {
        "id": "akOkB6DOxC_v"
      },
      "source": [
        "### Single Training Loop"
      ]
    },
    {
      "cell_type": "markdown",
      "metadata": {
        "id": "oFKnC5VrgVhn"
      },
      "source": [
        "### Epoch Training Loops"
      ]
    },
    {
      "cell_type": "markdown",
      "metadata": {
        "id": "k5g5kT2HgaoO"
      },
      "source": [
        "# Training Procedure"
      ]
    },
    {
      "cell_type": "code",
      "execution_count": 11,
      "metadata": {
        "id": "8wAaN7or552g"
      },
      "outputs": [],
      "source": [
        "%reload_ext autoreload\n",
        "def getPatch(img: np.array, bbox: np.array) -> tf.Tensor:\n",
        "  def _patch(img: np.array, bbox: np.array) -> np.array:\n",
        "    x, y, w, h, = bbox\n",
        "    return img[y : (y + h), x : (x + w)]\n",
        "      \n",
        "  patch = tf.image.resize(_patch(img, bbox), [PATCH_X, PATCH_Y])\n",
        "  return tf.reshape(patch, (1, PATCH_X, PATCH_Y, N_CHANNELS))"
      ]
    },
    {
      "cell_type": "markdown",
      "metadata": {
        "id": "EYQ1oThc1c_2"
      },
      "source": [
        "### Save Weights for Reproducibility"
      ]
    },
    {
      "cell_type": "markdown",
      "metadata": {
        "id": "XMtzZ9r5nu8A"
      },
      "source": [
        "### Observations\n",
        "\n",
        "* The paper sums all sequence rewards. However, we found this to produce too much variance. We reduce_mean instead to address this. If we had"
      ]
    },
    {
      "cell_type": "markdown",
      "metadata": {
        "id": "JmQvTRA7j9ET"
      },
      "source": [
        "# Prediction"
      ]
    },
    {
      "cell_type": "code",
      "execution_count": 12,
      "metadata": {
        "id": "u0g-v8GupB9y"
      },
      "outputs": [],
      "source": [
        "def predict(model: tf.keras.Model,img: np.array,bbox: np.array) -> np.array:\n",
        "  ACTION_DIM=11\n",
        "  seen_bboxes = set()\n",
        "  for t in range(MAX_TRAJECTORY_LENGTH):\n",
        "    #model.setActionHistory(action_hist.reshape((1, 1, 1, ACTION_DIM * K)))\n",
        "    #model.setActionHistory(action_hist.reshape((1,ACTION_DIM * K))) ### For ADNET_v2\n",
        "    patch = getPatch(img, bbox)\n",
        "    a_prob, score = model(patch)\n",
        "    maxaction = np.argmax(a_prob)\n",
        "    a, bbox = selectAction(np.array(img), bbox, maxaction)\n",
        "    model.updateActionHistory(a)\n",
        "    if isStop(a) or tuple(bbox) in seen_bboxes:\n",
        "      break \n",
        "   # seen_bboxes.add(tuple(bbox))\n",
        "  return bbox"
      ]
    },
    {
      "cell_type": "code",
      "execution_count": 13,
      "metadata": {
        "id": "03dOCNAKz6sg"
      },
      "outputs": [],
      "source": [
        "def plotNpImageBBoxGT(img: np.array, bbox: np.array,gbbox: np.array) -> np.array:\n",
        "  '''\n",
        "  Plots the bounding box on an image and returns the bounding box\n",
        "  '''\n",
        "  fig, ax = plt.subplots()\n",
        "  x_pre,y_pre, w_pre, h_pre = bbox\n",
        "  x_gr,y_gr, w_gr, h_gr = gbbox\n",
        "  predicted_rect = patches.Rectangle((x_pre, y_pre), w_pre, h_pre, linewidth=1, edgecolor='r', facecolor='none')\n",
        "  gt_rect = patches.Rectangle((x_gr, y_gr), w_gr, h_gr, linewidth=1, edgecolor='b', facecolor='none')\n",
        "  ax.add_patch(predicted_rect)\n",
        "  ax.add_patch(gt_rect)\n",
        "  plt.imshow(img)\n",
        "  return bbox"
      ]
    },
    {
      "cell_type": "code",
      "source": [
        "def standardize_bbox(img: np.array, bbox: np.array):\n",
        "  '''\n",
        "  Refits the bounding box to ensure that it is valid. X and Y get clipped first.\n",
        "  Assumes reasonable bounding boxes and solely for the bad data we found in\n",
        "  our ground truth dataset\n",
        "  '''\n",
        "  x, y, w, h = bbox\n",
        "  nx, ny, nw, nh = bbox\n",
        "\n",
        "  is_invalid = False\n",
        "  import pdb\n",
        "  # pdb.set_trace()\n",
        "  if x < 0 or x + w >= img.shape[1]:\n",
        "    w = np.clip(w, MIN_WINDOW_SIZE, img.shape[1])\n",
        "    # clip whichever keeps the most area    \n",
        "    x1 = np.clip(x, 0, img.shape[1] - 1)\n",
        "    w1 = np.clip(w, MIN_WINDOW_SIZE, img.shape[1] - x1)\n",
        "    x2 = np.clip(x, 0, img.shape[1] - w)\n",
        "    w2 = np.clip(w, MIN_WINDOW_SIZE, img.shape[1])\n",
        "    nx, nw = (x1, w1) if x1 + w1 > x2 + w2 else (x2, w2)\n",
        "    is_invalid = True\n",
        "\n",
        "  if y < 0 or y + h >= img.shape[0]:\n",
        "    h = np.clip(h, MIN_WINDOW_SIZE, img.shape[0])\n",
        "    # clip whichever keeps the most area\n",
        "    y1 = np.clip(y, 0, img.shape[0] - 1)\n",
        "    h1 = np.clip(h, MIN_WINDOW_SIZE, img.shape[0] - y1)\n",
        "    y2 = np.clip(y, 0, img.shape[0] - h)\n",
        "    h2 = np.clip(h, MIN_WINDOW_SIZE, img.shape[0])\n",
        "    ny, nh = (y1, h1) if y1 + h1 > y2 + h2 else (y2, h2)\n",
        "    is_invalid = True\n",
        "  \n",
        "  stdzd_bbox = np.array([nx, ny, nw, nh])\n",
        "  if is_invalid: \n",
        "    print(\"WARNING: Bounding box: {0} had to be standardized to {1}\".format(bbox, stdzd_bbox))\n",
        "  return stdzd_bbox"
      ],
      "metadata": {
        "id": "h2wXs18VJd_W"
      },
      "execution_count": 14,
      "outputs": []
    },
    {
      "cell_type": "code",
      "source": [
        "  test_list = glob.glob(\"adnet_datasets/Test/*\")\n",
        "print(test_list)"
      ],
      "metadata": {
        "colab": {
          "base_uri": "https://localhost:8080/"
        },
        "id": "MvqBv9hLajB0",
        "outputId": "69d1b323-378a-48fa-b329-459e22460a18"
      },
      "execution_count": 15,
      "outputs": [
        {
          "output_type": "stream",
          "name": "stdout",
          "text": [
            "['adnet_datasets/Test/Biker', 'adnet_datasets/Test/Bird1', 'adnet_datasets/Test/BlurBody', 'adnet_datasets/Test/BlurCar1', 'adnet_datasets/Test/BlurCar2', 'adnet_datasets/Test/BlurCar4', 'adnet_datasets/Test/BlurFace', 'adnet_datasets/Test/Board', 'adnet_datasets/Test/Box', 'adnet_datasets/Test/Bolt2', 'adnet_datasets/Test/Car2', 'adnet_datasets/Test/Car24', 'adnet_datasets/Test/Coke', 'adnet_datasets/Test/Coupon', 'adnet_datasets/Test/Couple', 'adnet_datasets/Test/Crossing', 'adnet_datasets/Test/Dancer2', 'adnet_datasets/Test/Dancer', 'adnet_datasets/Test/David2', 'adnet_datasets/Test/Dog1', 'adnet_datasets/Test/DragonBaby', 'adnet_datasets/Test/David3', 'adnet_datasets/Test/Dog', 'adnet_datasets/Test/FaceOcc1', 'adnet_datasets/Test/FleetFace', 'adnet_datasets/Test/Football1', 'adnet_datasets/Test/Freeman1', 'adnet_datasets/Test/Girl', 'adnet_datasets/Test/Girl2', 'adnet_datasets/Test/Gym', 'adnet_datasets/Test/Human5', 'adnet_datasets/Test/Human4', 'adnet_datasets/Test/Human3', 'adnet_datasets/Test/Human7', 'adnet_datasets/Test/Human8', 'adnet_datasets/Test/Human9', 'adnet_datasets/Test/Ironman', 'adnet_datasets/Test/Jogging', 'adnet_datasets/Test/Jump', 'adnet_datasets/Test/Jumping', 'adnet_datasets/Test/KiteSurf', 'adnet_datasets/Test/Lemming', 'adnet_datasets/Test/Liquor', 'adnet_datasets/Test/Panda', 'adnet_datasets/Test/Man', 'adnet_datasets/Test/MountainBike', 'adnet_datasets/Test/Matrix', 'adnet_datasets/Test/Mhyang', 'adnet_datasets/Test/RedTeam', 'adnet_datasets/Test/Skater2', 'adnet_datasets/Test/Singer2', 'adnet_datasets/Test/Singer1', 'adnet_datasets/Test/Rubik', 'adnet_datasets/Test/Shaking', 'adnet_datasets/Test/Sylvester', 'adnet_datasets/Test/Skating2', 'adnet_datasets/Test/Suv', 'adnet_datasets/Test/Skiing', 'adnet_datasets/Test/Subway', 'adnet_datasets/Test/Surfer', 'adnet_datasets/Test/Soccer', 'adnet_datasets/Test/Tiger1', 'adnet_datasets/Test/Tiger2', 'adnet_datasets/Test/Toy', 'adnet_datasets/Test/Trans', 'adnet_datasets/Test/Trellis', 'adnet_datasets/Test/Twinnings', 'adnet_datasets/Test/Vase', 'adnet_datasets/Test/Walking', 'adnet_datasets/Test/Woman', 'adnet_datasets/Test/Walking2', 'adnet_datasets/Test/Skating3', 'adnet_datasets/Test/Invalid']\n"
          ]
        }
      ]
    },
    {
      "cell_type": "code",
      "execution_count": 33,
      "metadata": {
        "id": "DhMMozN6J64i",
        "colab": {
          "base_uri": "https://localhost:8080/"
        },
        "outputId": "b7cd7b11-a106-47f1-e279-77840e1e4d12"
      },
      "outputs": [
        {
          "output_type": "stream",
          "name": "stdout",
          "text": [
            "WARNING:tensorflow:Unresolved object in checkpoint: (root).optimizer\n",
            "WARNING:tensorflow:Unresolved object in checkpoint: (root).optimizer.iter\n",
            "WARNING:tensorflow:Unresolved object in checkpoint: (root).optimizer.beta_1\n",
            "WARNING:tensorflow:Unresolved object in checkpoint: (root).optimizer.beta_2\n",
            "WARNING:tensorflow:Unresolved object in checkpoint: (root).optimizer.decay\n",
            "WARNING:tensorflow:Unresolved object in checkpoint: (root).optimizer.learning_rate\n",
            "WARNING:tensorflow:Unresolved object in checkpoint: (root).optimizer's state 'm' for (root).conv1.kernel\n",
            "WARNING:tensorflow:Unresolved object in checkpoint: (root).optimizer's state 'm' for (root).conv1.bias\n",
            "WARNING:tensorflow:Unresolved object in checkpoint: (root).optimizer's state 'm' for (root).conv2.kernel\n",
            "WARNING:tensorflow:Unresolved object in checkpoint: (root).optimizer's state 'm' for (root).conv2.bias\n",
            "WARNING:tensorflow:Unresolved object in checkpoint: (root).optimizer's state 'm' for (root).conv3.kernel\n",
            "WARNING:tensorflow:Unresolved object in checkpoint: (root).optimizer's state 'm' for (root).conv3.bias\n",
            "WARNING:tensorflow:Unresolved object in checkpoint: (root).optimizer's state 'm' for (root).fc1.kernel\n",
            "WARNING:tensorflow:Unresolved object in checkpoint: (root).optimizer's state 'm' for (root).fc1.bias\n",
            "WARNING:tensorflow:Unresolved object in checkpoint: (root).optimizer's state 'm' for (root).fc2.kernel\n",
            "WARNING:tensorflow:Unresolved object in checkpoint: (root).optimizer's state 'm' for (root).fc2.bias\n",
            "WARNING:tensorflow:Unresolved object in checkpoint: (root).optimizer's state 'm' for (root).fc3.kernel\n",
            "WARNING:tensorflow:Unresolved object in checkpoint: (root).optimizer's state 'm' for (root).fc3.bias\n",
            "WARNING:tensorflow:Unresolved object in checkpoint: (root).optimizer's state 'v' for (root).conv1.kernel\n",
            "WARNING:tensorflow:Unresolved object in checkpoint: (root).optimizer's state 'v' for (root).conv1.bias\n",
            "WARNING:tensorflow:Unresolved object in checkpoint: (root).optimizer's state 'v' for (root).conv2.kernel\n",
            "WARNING:tensorflow:Unresolved object in checkpoint: (root).optimizer's state 'v' for (root).conv2.bias\n",
            "WARNING:tensorflow:Unresolved object in checkpoint: (root).optimizer's state 'v' for (root).conv3.kernel\n",
            "WARNING:tensorflow:Unresolved object in checkpoint: (root).optimizer's state 'v' for (root).conv3.bias\n",
            "WARNING:tensorflow:Unresolved object in checkpoint: (root).optimizer's state 'v' for (root).fc1.kernel\n",
            "WARNING:tensorflow:Unresolved object in checkpoint: (root).optimizer's state 'v' for (root).fc1.bias\n",
            "WARNING:tensorflow:Unresolved object in checkpoint: (root).optimizer's state 'v' for (root).fc2.kernel\n",
            "WARNING:tensorflow:Unresolved object in checkpoint: (root).optimizer's state 'v' for (root).fc2.bias\n",
            "WARNING:tensorflow:Unresolved object in checkpoint: (root).optimizer's state 'v' for (root).fc3.kernel\n",
            "WARNING:tensorflow:Unresolved object in checkpoint: (root).optimizer's state 'v' for (root).fc3.bias\n",
            "WARNING:tensorflow:A checkpoint was restored (e.g. tf.train.Checkpoint.restore or tf.keras.Model.load_weights) but not all checkpointed values were used. See above for specific issues. Use expect_partial() on the load status object, e.g. tf.train.Checkpoint.restore(...).expect_partial(), to silence these warnings, or use assert_consumed() to make the check explicit. See https://www.tensorflow.org/guide/checkpoint#loading_mechanics for details.\n",
            "adnet_datasets/Test/BlurBody\n",
            "adnet_datasets/Test/BlurCar1\n",
            "adnet_datasets/Test/Car2\n",
            "adnet_datasets/Test/Car24\n",
            "[[array([400,  66,  87, 319]), array([400, 156,  87, 319]), array([400, 160,  87, 319]), array([400, 160,  87, 319]), array([400, 160,  87, 319]), array([400, 160,  87, 319]), array([400,  88,  87, 319]), array([414,  88,  87, 319]), array([404,  88,  87, 319]), array([411, 100,  78, 290]), array([421, 100,  78, 290]), array([417,  68,  78, 290]), array([437,  68,  78, 290]), array([453,  60,  78, 290]), array([453,  52,  78, 290]), array([457,  52,  78, 290]), array([477,  52,  78, 290]), array([493,  44,  78, 290]), array([477,  52,  78, 290]), array([489,  52,  78, 290]), array([497,  44,  78, 290]), array([503,  20,  78, 290]), array([513,  28,  78, 290]), array([525,  44,  78, 290]), array([529,  44,  78, 290]), array([533,  44,  78, 290]), array([541,  52,  78, 290]), array([539,  44,  78, 290]), array([547,  44,  78, 290]), array([549,  39,  80, 298]), array([553,  39,  80, 298]), array([559,  39,  80, 298]), array([559,  39,  80, 298]), array([559,  63,  80, 298]), array([559,  63,  80, 298]), array([559,  63,  80, 298]), array([551,  23,  80, 298]), array([555,  15,  80, 298]), array([559,   0,  80, 298]), array([562,  12,  68, 262]), array([552,  12,  74, 285]), array([540,   0,  80, 310]), array([540,  54,  80, 310]), array([542,  89,  74, 291]), array([542, 113,  74, 291]), array([542, 121,  74, 291]), array([545, 148,  65, 264]), array([545, 148,  65, 264]), array([550, 137,  63, 256]), array([551, 126,  65, 263]), array([552, 126,  65, 263]), array([547,  80,  71, 286]), array([549,  40,  65, 268]), array([545,  24,  65, 268]), array([545,  40,  65, 268]), array([552,  40,  65, 268]), array([556,  33,  61, 251]), array([546,  33,  61, 251]), array([536,  33,  61, 251]), array([536,  33,  61, 251]), array([535,  29,  63, 258]), array([529,  50,  63, 258]), array([532,  38,  61, 249]), array([538,  52,  61, 249]), array([541,  47,  55, 226]), array([541,  51,  59, 238]), array([541,  72,  59, 238]), array([545,  79,  59, 238]), array([545,  72,  59, 238]), array([540,  72,  59, 238]), array([545,  63,  57, 230]), array([545,  63,  57, 230]), array([545,  69,  57, 230]), array([541,  57,  57, 230]), array([543,  39,  57, 230]), array([539,  30,  65, 257]), array([539,  65,  65, 257]), array([539,  65,  65, 257]), array([544,  67,  63, 248]), array([547,  77,  61, 240]), array([550,  80,  59, 232]), array([552,  86,  55, 218]), array([557,  76,  57, 224]), array([557,  82,  57, 224]), array([557,  88,  57, 224]), array([555,  94,  57, 224]), array([558,  76,  57, 224]), array([555,  76,  57, 224]), array([559,  64,  57, 224]), array([558,  72,  59, 230]), array([555,  84,  59, 230]), array([550,  84,  59, 230]), array([551, 105,  57, 223]), array([551, 111,  57, 223]), array([552, 138,  55, 216]), array([551, 162,  55, 216]), array([551, 180,  55, 216]), array([551, 168,  55, 216]), array([551, 162,  55, 216]), array([547, 156,  55, 216])], [array([244, 168, 106, 105]), array([256, 177, 106, 105]), array([248, 184, 102, 101]), array([249, 206,  98,  97]), array([243, 206,  98,  97]), array([239, 196, 103, 101]), array([242, 196, 103, 101]), array([236, 202, 112, 110]), array([242, 226, 112, 110]), array([248, 241, 112, 110]), array([238, 231, 127, 125]), array([240, 224, 119, 117]), array([231, 206, 119, 117]), array([207, 209, 119, 117]), array([195, 209, 114, 112]), array([198, 212, 114, 112]), array([216, 212, 114, 112]), array([212, 199, 120, 118]), array([218, 208, 120, 118]), array([218, 202, 129, 127]), array([218, 172, 129, 127]), array([218, 163, 129, 127]), array([205, 151, 139, 136]), array([206, 148, 143, 140]), array([186, 152, 143, 140]), array([178, 144, 143, 140]), array([169, 135, 155, 152]), array([154, 120, 177, 173]), array([139, 105, 202, 198]), array([139,  95, 202, 198]), array([153,  87, 194, 190]), array([152,  81, 204, 200]), array([156,  74, 216, 212]), array([116,  58, 222, 218]), array([106,  36, 228, 224]), array([118,   0, 228, 224]), array([114,   0, 234, 230]), array([112,   0, 262, 257]), array([ 87,   0, 277, 271]), array([ 88,   0, 301, 295]), array([ 88,   0, 301, 295]), array([ 83,   0, 310, 303]), array([ 78,   0, 319, 312]), array([ 78,   0, 319, 312]), array([ 78,   0, 319, 312]), array([ 78,   0, 319, 312]), array([ 69,   0, 319, 312]), array([ 96,   9, 319, 312]), array([ 78,   9, 319, 312]), array([ 96,   9, 319, 312]), array([ 96,   0, 319, 312]), array([ 96,   0, 319, 312]), array([ 96,   0, 319, 312]), array([ 96,   0, 319, 312]), array([ 96,   0, 319, 312]), array([ 87,   0, 319, 312]), array([ 59,   0, 367, 359]), array([ 59,   0, 367, 359]), array([ 59,   0, 367, 359]), array([ 37,   0, 367, 359]), array([ 37,   0, 367, 359]), array([ 37,   0, 367, 359]), array([ 37,   0, 367, 359]), array([ 59,   0, 367, 359]), array([ 59,  20, 367, 359]), array([ 59,   0, 367, 359]), array([ 59,   0, 367, 359]), array([ 59,   0, 367, 359]), array([ 15,   0, 367, 359]), array([ 37,   0, 367, 359]), array([ 19,   0, 400, 391]), array([ 30,   0, 424, 414]), array([ 30,   0, 424, 414]), array([ 54,   0, 424, 414]), array([ 54,   0, 424, 414]), array([ 54,   0, 424, 414]), array([ 54,   0, 424, 414]), array([ 54,   0, 424, 414]), array([ 54,   0, 424, 414]), array([ 30,   0, 424, 414]), array([  6,   0, 424, 414]), array([  6,   0, 424, 414]), array([  6,   0, 424, 414]), array([  0,   0, 424, 414]), array([  0,   0, 424, 414]), array([ 31,  17, 436, 426]), array([ 31,   5, 436, 426]), array([ 57,  29, 436, 426]), array([ 57,  17, 436, 426]), array([ 57,  29, 436, 426]), array([ 57,  41, 436, 426]), array([ 31,   0, 436, 426]), array([  5,  48, 436, 426]), array([  0,  48, 436, 426]), array([  0,   0, 436, 426]), array([  0,   0, 436, 426]), array([  0,   0, 436, 426]), array([  0,   0, 436, 426]), array([  0,   0, 436, 426]), array([  0,   0, 436, 426])], [array([70, 74, 72, 60]), array([70, 73, 72, 60]), array([70, 72, 72, 60]), array([70, 72, 72, 60]), array([68, 72, 72, 60]), array([68, 72, 72, 60]), array([68, 72, 72, 60]), array([68, 72, 72, 60]), array([68, 72, 72, 60]), array([68, 72, 72, 60]), array([68, 72, 72, 60]), array([68, 71, 72, 60]), array([68, 71, 72, 60]), array([68, 71, 72, 60]), array([68, 70, 72, 60]), array([68, 70, 72, 60]), array([68, 70, 72, 60]), array([68, 70, 72, 60]), array([68, 70, 72, 60]), array([68, 70, 72, 60]), array([68, 70, 72, 60]), array([68, 70, 72, 60]), array([68, 70, 72, 60]), array([68, 70, 72, 60]), array([68, 70, 72, 60]), array([68, 70, 72, 60]), array([68, 70, 72, 60]), array([76, 72, 72, 60]), array([76, 71, 72, 60]), array([74, 71, 72, 60]), array([78, 71, 72, 60]), array([76, 71, 72, 60]), array([74, 71, 72, 60]), array([82, 71, 72, 60]), array([74, 71, 72, 60]), array([82, 71, 72, 60]), array([74, 71, 72, 60]), array([78, 71, 72, 60]), array([76, 71, 72, 60]), array([74, 71, 72, 60]), array([72, 71, 72, 60]), array([76, 71, 72, 60]), array([74, 71, 72, 60]), array([73, 71, 71, 60]), array([75, 70, 71, 60]), array([75, 69, 73, 62]), array([75, 70, 73, 62]), array([71, 69, 73, 62]), array([75, 69, 73, 62]), array([71, 64, 79, 68]), array([69, 66, 79, 68]), array([72, 69, 76, 65]), array([70, 68, 78, 67]), array([70, 64, 78, 67]), array([68, 64, 80, 69]), array([68, 66, 80, 69]), array([68, 64, 80, 69]), array([68, 66, 80, 69]), array([70, 66, 80, 69]), array([70, 66, 80, 69]), array([62, 66, 80, 69]), array([66, 66, 80, 69]), array([62, 66, 80, 69]), array([58, 66, 80, 69]), array([58, 68, 80, 69]), array([63, 67, 77, 66]), array([61, 67, 77, 66]), array([61, 66, 77, 66]), array([71, 66, 77, 66]), array([71, 59, 81, 70]), array([72, 52, 78, 67]), array([70, 48, 78, 67]), array([77, 51, 75, 64]), array([79, 44, 75, 64]), array([85, 40, 77, 66]), array([88, 40, 68, 60]), array([86, 37, 68, 60]), array([86, 36, 68, 60]), array([86, 30, 68, 60]), array([86, 29, 68, 60]), array([86, 29, 68, 60]), array([86, 29, 68, 60]), array([82, 32, 68, 60]), array([82, 33, 68, 60]), array([82, 32, 68, 60]), array([82, 31, 68, 60]), array([82, 32, 68, 60]), array([82, 31, 68, 60]), array([82, 32, 68, 60]), array([82, 31, 68, 60]), array([82, 32, 68, 60]), array([82, 31, 68, 60]), array([82, 32, 68, 60]), array([82, 33, 68, 60]), array([82, 32, 68, 60]), array([82, 31, 68, 60]), array([82, 32, 68, 60]), array([82, 31, 68, 60]), array([82, 30, 68, 60]), array([82, 30, 68, 60])], [array([168, 123,  19,  16]), array([169, 126,  15,  12]), array([164, 125,  15,  12]), array([165, 124,  17,  14]), array([164, 124,  17,  14]), array([161, 122,  21,  18]), array([162, 122,  21,  18]), array([161, 119,  23,  20]), array([162, 120,  23,  20]), array([165, 122,  21,  18]), array([165, 123,  21,  18]), array([163, 124,  21,  18]), array([160, 121,  27,  24]), array([162, 122,  25,  22]), array([163, 122,  25,  22]), array([160, 121,  25,  22]), array([158, 121,  25,  22]), array([158, 123,  25,  22]), array([158, 121,  29,  26]), array([160, 120,  29,  26]), array([160, 121,  29,  26]), array([164, 121,  27,  24]), array([162, 121,  27,  24]), array([162, 122,  27,  24]), array([164, 122,  25,  22]), array([165, 122,  25,  22]), array([162, 122,  25,  22]), array([162, 121,  25,  22]), array([163, 122,  25,  22]), array([165, 120,  25,  22]), array([166, 120,  25,  22]), array([165, 121,  23,  20]), array([163, 124,  25,  22]), array([163, 123,  25,  22]), array([163, 122,  25,  22]), array([161, 122,  25,  22]), array([161, 124,  25,  22]), array([161, 123,  25,  22]), array([164, 122,  23,  20]), array([163, 121,  23,  20]), array([168, 123,  17,  14]), array([166, 124,  19,  16]), array([169, 126,  17,  14]), array([169, 125,  17,  14]), array([168, 128,  17,  14]), array([166, 127,  17,  14]), array([168, 127,  17,  14]), array([168, 127,  17,  14]), array([164, 127,  19,  16]), array([164, 125,  19,  16]), array([164, 127,  19,  16]), array([159, 125,  23,  20]), array([160, 125,  23,  20]), array([161, 125,  23,  20]), array([161, 127,  23,  20]), array([163, 125,  23,  20]), array([163, 123,  23,  20]), array([162, 125,  23,  20]), array([163, 125,  23,  20]), array([164, 125,  23,  20]), array([159, 125,  23,  20]), array([159, 127,  23,  20]), array([159, 125,  27,  24]), array([160, 122,  27,  24]), array([160, 123,  27,  24]), array([161, 123,  27,  24]), array([160, 123,  27,  24]), array([159, 121,  27,  24]), array([159, 123,  27,  24]), array([159, 122,  27,  24]), array([157, 122,  27,  24]), array([156, 123,  27,  24]), array([160, 123,  27,  24]), array([160, 123,  27,  24]), array([160, 123,  27,  24]), array([160, 124,  27,  24]), array([156, 122,  27,  24]), array([154, 124,  31,  28]), array([158, 122,  31,  28]), array([158, 122,  31,  28]), array([158, 122,  31,  28]), array([158, 120,  31,  28]), array([158, 121,  31,  28]), array([161, 121,  31,  28]), array([162, 121,  31,  28]), array([162, 121,  31,  28]), array([167, 122,  31,  28]), array([166, 121,  31,  28]), array([167, 122,  31,  28]), array([169, 122,  31,  28]), array([174, 122,  31,  28]), array([169, 121,  29,  26]), array([166, 121,  29,  26]), array([168, 123,  27,  24]), array([169, 124,  25,  22]), array([172, 125,  19,  16]), array([171, 124,  21,  18]), array([172, 125,  19,  16]), array([169, 124,  25,  22]), array([168, 124,  23,  20])]]\n",
            "[array([[400,  48,  87, 319],\n",
            "       [390,  50,  91, 317],\n",
            "       [383,  53,  88, 320],\n",
            "       ...,\n",
            "       [358,  86,  97, 288],\n",
            "       [342,  88,  90, 284],\n",
            "       [326,  87, 100, 285]]), array([[250, 168, 106, 105],\n",
            "       [249, 170, 106, 106],\n",
            "       [240, 179, 108, 106],\n",
            "       ...,\n",
            "       [297, 216,  84,  81],\n",
            "       [298, 217,  83,  86],\n",
            "       [300, 219,  80,  80]]), array([[ 76,  79,  64,  52],\n",
            "       [ 76,  79,  64,  52],\n",
            "       [ 76,  79,  63,  52],\n",
            "       ...,\n",
            "       [205,  76,  54,  47],\n",
            "       [206,  76,  55,  47],\n",
            "       [206,  77,  55,  47]]), array([[164, 121,  27,  24],\n",
            "       [164, 121,  27,  24],\n",
            "       [165, 121,  27,  24],\n",
            "       ...,\n",
            "       [ 16, 113,  56,  50],\n",
            "       [ 15, 113,  56,  50],\n",
            "       [ 14, 113,  56,  50]])]\n"
          ]
        }
      ],
      "source": [
        "import time\n",
        "#OPE TEST\n",
        "#test videos similar to kaans training videos : BlurCar1-3-4 , Car1, Car2 , FaceOcc1, Girl , Human ,Walking\n",
        "def test_metrics( model: tf.keras.Model, model2:tf.keras.Model , model3:tf.keras.Model ):\n",
        "    all_boxes = []\n",
        "    all_boxes2 = []\n",
        "    all_boxes3 = []\n",
        "    all_gt = []\n",
        "    time_perframe_for_each_video =[]\n",
        "    test_list = glob.glob(\"adnet_datasets/Test/*\")\n",
        "    #for it in range(5): activate for TRE\n",
        "    for  i in [2,3,10,11]:  # start with 1\n",
        "      dataset = test_list[i]\n",
        "      print(dataset)\n",
        "      model.clearActionHistory()\n",
        "      gt = get_ground_truths(\"%s/groundtruth_rect.txt\" % dataset)     \n",
        "      all_gt.append(gt)\n",
        "      frames = sorted(glob.glob(os.path.join('%s/img' % dataset, '*.jpg')))\n",
        "      number_of_frames = len(frames)\n",
        "      #start_frame = random.randint(0, number_of_frames) ACTIVATE FOR TRE\n",
        "      start_frame = 1\n",
        "      boxes_m1 =[]\n",
        "      boxes_m2 = []\n",
        "      boxes_m3 = []\n",
        "      time_perframe = []\n",
        "      predicted_box = gt[0]\n",
        "      predicted_box2 = gt[0]\n",
        "      predicted_box3 = gt[0]\n",
        "      start = time.time()\n",
        "      for f in range(100):#len(frames) - start_frame):\n",
        "        img = cv2.imread(frames[f + start_frame])\n",
        "        img = cv2.cvtColor(img, cv2.COLOR_BGR2RGB)\n",
        "        predicted_box=  predict(model,img,predicted_box)\n",
        "        #predicted_box =  standardize_bbox(img, predicted_box)\n",
        "\n",
        "        #predicted_box2 = predict(model, img,predicted_box2) if we want to compare 2 models\n",
        "        #predicted_box2 =  standardize_bbox(img, predicted_box2) if you want to compare at the same time two models uncomment\n",
        "        #predicted_box3 = predict(model, img,predicted_box3) if we want to compare 3 models\n",
        "        #predicted_box3 =  standardize_bbox(img, predicted_box3) if you want to compare at the same time three models uncomment\n",
        "        boxes_m1.append(predicted_box)\n",
        "        #boxes_m2.append(predicted_box2)\n",
        "        #boxes_m3.append(predicted_box3)\n",
        "\n",
        "      end = time.time()\n",
        "      time_perframe = (start-end)/len(frames)\n",
        "      all_boxes.append(boxes_m1)\n",
        "      #all_boxes2.append(boxes_m2)\n",
        "      #all_boxes3.append(boxes_m2)\n",
        "      time_perframe_for_each_video.append(time_perframe)\n",
        "    return all_boxes, all_boxes2,all_boxes3, all_gt , time_perframe_for_each_video # if yu want to compare two models add here all_boxes2\n",
        "\n",
        "adnet_model = ADNET()\n",
        "adnet_model.build()\n",
        "#WEIGHTS_PATH = \"checkpoints/derek-19-12-2021_012730.h5\"\n",
        "#weights = hdf5storage.loadmat(YIFAN_WEIGHTS_PATH)\n",
        "adnet_model.load_weights(\"/content/gdrive/My Drive/EE6886/my_model_sl-cR\")\n",
        "all_boxes1 ,all_boxes2, all_boxes3, all_gt , time_perframe_for_each_video = test_metrics(adnet_model , adnet_model,adnet_model)\n",
        "print (all_boxes1)\n",
        "print(all_gt)"
      ]
    },
    {
      "cell_type": "code",
      "execution_count": 34,
      "metadata": {
        "id": "BBBRcPEAohhe"
      },
      "outputs": [],
      "source": [
        "from scipy.spatial.kdtree import distance_matrix\n",
        "from scipy.spatial import distance\n",
        "\n",
        "def calculate_precision(trackerresults, groundtruth, threshold):\n",
        "  \"\"\"\n",
        "  Input: List of bounding box results from tracker, ground truth file, location error threshold\n",
        "  Output: Returns the percentage of points whose center point has a euclidean distance that is less than the\n",
        "          threshold away from the groudtruth\n",
        "  x, y, w, h = bbox\n",
        "  \"\"\"\n",
        "   # Iterate through each frame, find the center for each frame and calculate the \n",
        "   # euclidean distance between the tracker and groundtruth\n",
        "  result = 0\n",
        "  pts = 0\n",
        "  for bbox1, bbox2 in zip(trackerresults, groundtruth):\n",
        "    #X and y indicate top left corner\n",
        "    x1, y1, w1, h1 = bbox1\n",
        "    center1 = [x1-.5*w1, y1-.5*h1]\n",
        "    x2, y2, w2, h2 = bbox2\n",
        "    center2 = [x2-.5*w2, y2-.5*h2]\n",
        "    dist = distance.euclidean(center1, center2)\n",
        "    #print(\"DICT\", dist)\n",
        "    pts += 1\n",
        "    if dist <= threshold:\n",
        "      result += 1\n",
        "\n",
        "  result = result/pts\n",
        "\n",
        "\n",
        "  return result\n",
        "\n"
      ]
    },
    {
      "cell_type": "code",
      "execution_count": 27,
      "metadata": {
        "id": "Rxn7JR1fRTpW"
      },
      "outputs": [],
      "source": [
        "import matplotlib as plt\n",
        "import decimal as d\n",
        "\n",
        "def graph_precision_plot(trackerresults, groundtruth):\n",
        "  #1: Iterate through every threshold\n",
        "  precisions = []# np.zeros((50,), dtype=int) \n",
        "  thresholds = np.arange(0, 50, 1)\n",
        "  i=0\n",
        "  for threshold in thresholds: #(Threshold in pixels)\n",
        "  #2: Iterate through every video \n",
        "    num_vids = float(0)\n",
        "    precision = 0\n",
        "    for bboxes1, bboxes2 in zip(trackerresults, groundtruth):\n",
        "      temp = calculate_precision(bboxes1,bboxes2,threshold)\n",
        "      precision = precision + temp\n",
        "      num_vids += 1.0000000000\n",
        "    #print(type(precision), type(num_vids))\n",
        "    precisions.append(float(precision)/float(num_vids))\n",
        "    i+=1\n",
        "    #print(precision,precisions[threshold])\n",
        "\n",
        "\n",
        "  #3: Graph average percision of all videos vs threshold\n",
        "\n",
        "  # plotting the points\n",
        "  plt.pyplot.plot(thresholds, precisions)\n",
        " \n",
        "  # naming the x axis\n",
        "  plt.pyplot.xlabel('Location Error Threshold')\n",
        "  # naming the y axis\n",
        "  plt.pyplot.ylabel('Precision')\n",
        " \n",
        "  # giving a title to my graph\n",
        "  plt.pyplot.title('Precision Plots of OPE')\n",
        " \n",
        "  # function to show the plot\n",
        "  plt.pyplot.savefig('Precision.png')\n",
        "  plt.pyplot.show()\n",
        "\n",
        "\n",
        "def graph_success_plot(trackerresults, groundtruth):\n",
        "  #1 Iterate through overlap threshold\n",
        "  successes = []\n",
        "  thresholds = np.arange(0, 1, .01)\n",
        "  i = 0\n",
        "  for threshold in thresholds: #(Threshold in pixels)\n",
        "\n",
        "  #2 Iterate through every video\n",
        "\n",
        "    num_vids = 0\n",
        "    success = 0\n",
        "    for bboxes1, bboxes2 in zip(trackerresults, groundtruth): \n",
        "      success += calculate_success(bboxes1,bboxes2,threshold)\n",
        "      num_vids += 1\n",
        "\n",
        "    successes.append(success/num_vids)\n",
        "    i +=1\n",
        "  #3 Graph average success vs threshold\n",
        "\n",
        "  # plotting the points\n",
        "  print(successes)\n",
        "  plt.pyplot.plot(thresholds, successes)\n",
        " \n",
        "  # naming the x axis\n",
        "  plt.pyplot.xlabel('Overlap Threshold')\n",
        "  # naming the y axis\n",
        "  plt.pyplot.ylabel('Success Rate')\n",
        " \n",
        "  # giving a title to my graph\n",
        "  plt.pyplot.title('Success Plots of OPE')\n",
        " \n",
        "  # function to show the plot\n",
        "  plt.pyplot.show()"
      ]
    },
    {
      "cell_type": "code",
      "execution_count": 23,
      "metadata": {
        "id": "Rfv8ymv1RTpW"
      },
      "outputs": [],
      "source": [
        "import numpy as np\n",
        "def calculate_IOU(bbox1: np.array, bbox2: np.array):\n",
        "    \"\"\"\n",
        "    input is single bounding box for tracker and groundtruth\n",
        "    output is IOU\n",
        "    \"\"\"\n",
        "    x1, y1, w1, h1 = bbox1\n",
        "    x2, y2, w2, h2 = bbox2\n",
        "    #print(bbox1)\n",
        "    #print(bbox2)      \n",
        "    i_x1 = max(x1, x2)\n",
        "    i_y1 = max(y1, y2)\n",
        "    i_x2 = min(x1 + w1, x2 + w2)\n",
        "    i_y2 = min(y1 + h1, y2 + h2)\n",
        "    if i_x1 >= i_x2 or i_y1 >= i_y2:\n",
        "      #print(\"fck\")\n",
        "      return 0.0\n",
        "\n",
        "    intersection_area = (i_x2 - i_x1) * (i_y2 - i_y1)\n",
        "    box1_area = w1 * h1\n",
        "    box2_area = w2 * h2\n",
        "    \n",
        "    iou = intersection_area / float(box1_area + box2_area - intersection_area)\n",
        "    return iou\n",
        "\n",
        "\n",
        "def calculate_success(trackerresults, groundtruth, threshold):\n",
        "\n",
        "  result = 0\n",
        "  pts = 0 \n",
        "  for bbox1, bbox2 in zip(trackerresults, groundtruth):\n",
        "    IOU = calculate_IOU(bbox1, bbox2)\n",
        " \n",
        "    pts += 1\n",
        "    if IOU > threshold:\n",
        "      result += 1\n",
        "\n",
        "  result = result/pts\n",
        "\n",
        "  return result\n"
      ]
    },
    {
      "cell_type": "code",
      "execution_count": 35,
      "metadata": {
        "id": "o_vlmduuRTpW",
        "colab": {
          "base_uri": "https://localhost:8080/",
          "height": 611
        },
        "outputId": "d6e9d2b7-f582-4dec-bf5d-82b5da77a910"
      },
      "outputs": [
        {
          "output_type": "display_data",
          "data": {
            "image/png": "[encoded data removed]",
            "text/plain": [
              "<Figure size 432x288 with 1 Axes>"
            ]
          },
          "metadata": {
            "needs_background": "light"
          }
        },
        {
          "output_type": "stream",
          "name": "stdout",
          "text": [
            "[0.7949999999999999, 0.7949999999999999, 0.79, 0.7875, 0.7875, 0.785, 0.7825, 0.7675000000000001, 0.73, 0.7025, 0.665, 0.635, 0.5975, 0.5875, 0.565, 0.5525, 0.5475, 0.535, 0.5325, 0.525, 0.52, 0.515, 0.51, 0.505, 0.5, 0.4975, 0.4925, 0.4925, 0.4875, 0.485, 0.485, 0.47, 0.46499999999999997, 0.4625, 0.44499999999999995, 0.4425, 0.435, 0.4225, 0.4175, 0.40499999999999997, 0.39749999999999996, 0.395, 0.39, 0.38, 0.37, 0.3575, 0.345, 0.31999999999999995, 0.31999999999999995, 0.31499999999999995, 0.2825, 0.28, 0.275, 0.2675, 0.255, 0.2275, 0.21750000000000003, 0.21500000000000002, 0.1975, 0.1875, 0.1825, 0.18, 0.18, 0.1725, 0.1725, 0.16999999999999998, 0.1675, 0.1625, 0.15250000000000002, 0.14, 0.1325, 0.1325, 0.12, 0.115, 0.0625, 0.0425, 0.0225, 0.0225, 0.0125, 0.01, 0.0075, 0.0075, 0.0075, 0.0075, 0.0075, 0.0075, 0.0075, 0.005, 0.005, 0.005, 0.0, 0.0, 0.0, 0.0, 0.0, 0.0, 0.0, 0.0, 0.0, 0.0]\n"
          ]
        },
        {
          "output_type": "display_data",
          "data": {
            "image/png": "[encoded data removed]",
            "text/plain": [
              "<Figure size 432x288 with 1 Axes>"
            ]
          },
          "metadata": {
            "needs_background": "light"
          }
        }
      ],
      "source": [
        "graph_precision_plot(all_boxes1, all_gt)\n",
        "\n",
        "graph_success_plot(all_boxes1, all_gt)\n",
        "\n"
      ]
    },
    {
      "cell_type": "code",
      "execution_count": 36,
      "metadata": {
        "colab": {
          "base_uri": "https://localhost:8080/",
          "height": 354
        },
        "id": "qwWLeN9ADddd",
        "outputId": "d9c5772a-c1ca-4222-d15b-1e1f1c85d16d"
      },
      "outputs": [
        {
          "output_type": "stream",
          "name": "stdout",
          "text": [
            "[ 0.07282026 -0.08901678  0.08613496  0.04703538  0.07904872  0.09412998\n",
            " -0.00701348 -0.05435824  0.06835599  0.01236562  0.04766954]\n",
            "10\n"
          ]
        },
        {
          "output_type": "execute_result",
          "data": {
            "text/plain": [
              "Text(0.5, 1.0, 'Squared weights for each action of the action vector')"
            ]
          },
          "metadata": {},
          "execution_count": 36
        },
        {
          "output_type": "display_data",
          "data": {
            "image/png": "[encoded data removed]",
            "text/plain": [
              "<Figure size 432x288 with 1 Axes>"
            ]
          },
          "metadata": {
            "needs_background": "light"
          }
        }
      ],
      "source": [
        "from tensorflow import keras\n",
        "##adnet_model = ADNET()\n",
        "#adnet_model.build()\n",
        "#WEIGHTS_PATH = \"checkpoints/derek-19-12-2021_012730.h5\"\n",
        "#weights = hdf5storage.loadmat(YIFAN_WEIGHTS_PATH)\n",
        "#adnet_model.load_weights(WEIGHTS_PATH)\n",
        "last_layer = adnet_model.layers[8].get_weights()[0]\n",
        "print(last_layer[0][0][621])\n",
        "w =[]\n",
        "#QUESTION ABOUT THIS ONE\n",
        "#take last 110x11 values of the last layer weights because the other 512 come from the concatanation should it be the last or the first ones?\n",
        "#every 10 lists of 11 we are moving back one action...\n",
        "for i in range(512,622-10,10):\n",
        "  sum=0\n",
        "  for j in range(10):\n",
        "    squared_numbers = [number ** 2 for number in last_layer[0][0][i+j]]\n",
        "    sum += np.sum(squared_numbers)\n",
        "  w.append(sum)\n",
        "\n",
        "print(len(w))\n",
        "import seaborn as sns\n",
        "import matplotlib.pyplot as plt\n",
        "\n",
        "x = range(1,11)\n",
        "\n",
        "plot = sns.lineplot (x=x , y=w)\n",
        "#should be high in the beggining low at the end\n",
        "\n",
        "plot.set_title(\"Squared weights for each action of the action vector\")\n",
        "\n",
        "\n",
        "\n",
        "\n"
      ]
    },
    {
      "cell_type": "code",
      "source": [
        "#heatmap of action weight vector should have more intense colors towards the beggining\n",
        "print(last_layer[0][0].size)\n",
        "last_layer2 = adnet_model.layers[8].get_weights()[0]\n",
        "print(last_layer2.size)\n",
        "l = last_layer2[0][0]\n",
        "print(l[0])\n",
        "df = []\n",
        "for i in range(512,622):\n",
        "  df.append(l[i])\n",
        "\n",
        "ax = sns.heatmap(df)"
      ],
      "metadata": {
        "colab": {
          "base_uri": "https://localhost:8080/",
          "height": 343
        },
        "id": "eUzfNZl3a2yJ",
        "outputId": "b92750ae-8cc9-4599-bb30-46e3ac836b9d"
      },
      "execution_count": 54,
      "outputs": [
        {
          "output_type": "stream",
          "name": "stdout",
          "text": [
            "6842\n",
            "6842\n",
            "[-0.05160823 -0.09715641  0.03502798  0.05718637  0.01165083 -0.00192319\n",
            "  0.0566667   0.0743661  -0.01312026 -0.03310439  0.01575821]\n"
          ]
        },
        {
          "output_type": "display_data",
          "data": {
            "image/png": "[encoded data removed]",
            "text/plain": [
              "<Figure size 432x288 with 2 Axes>"
            ]
          },
          "metadata": {
            "needs_background": "light"
          }
        }
      ]
    },
    {
      "cell_type": "code",
      "source": [
        ""
      ],
      "metadata": {
        "id": "4s7is9yld2Sd"
      },
      "execution_count": null,
      "outputs": []
    },
    {
      "cell_type": "code",
      "source": [
        "# to create AUC PLOT IF YOU WANT ADD TRACKERS NOT IN BENCHMARK WITH GREATER AUCs as well https://paperswithcode.com/sota/visual-object-tracking-on-otb-2013\n",
        "x = [\n",
        "'STRUCK',\n",
        "'SCM'\t,\n",
        "'ASLA',\n",
        "'TLD'\t,\n",
        "'CXT'\t,\n",
        "\n",
        "'VTD',\n",
        "'VTS'\t,\n",
        "'CSK',\n",
        "'LSK' ,\n",
        "'DFT'\t,\n",
        "\n",
        "'EE6885']\n",
        "\n",
        "y = [0.473, 0.499, 0.434, 0.437, 0.424,0.416,0.416, 0.398,0.395,0.389,0]\n",
        "plot2 = sns.barplot(x=x, y=y)\n",
        "plot2.set_title(\"AUC of top trackers from OTB Benchmark\")\n",
        "plt.savefig('AUC.png')\n",
        "\n",
        "\n"
      ],
      "metadata": {
        "id": "9EL0CnIh2rcS",
        "colab": {
          "base_uri": "https://localhost:8080/",
          "height": 281
        },
        "outputId": "1b8aaf10-2dbe-48a8-8786-5bb7f4ae94bf"
      },
      "execution_count": null,
      "outputs": [
        {
          "output_type": "display_data",
          "data": {
            "image/png": "[encoded data removed]",
            "text/plain": [
              "<Figure size 432x288 with 1 Axes>"
            ]
          },
          "metadata": {
            "needs_background": "light"
          }
        }
      ]
    },
    {
      "cell_type": "code",
      "source": [
        "#draw multiple curves\n",
        "import matplotlib.pyplot as plt\n",
        "import decimal as d\n",
        "\n",
        "def graph_precision_plot(model_results, model_gts,num_models):\n",
        "  for model in range(num_models):\n",
        "    trackerresults, groundtruth = model_results[model], model_gts[model]\n",
        "    #1: Iterate through every threshold\n",
        "    precisions = []# np.zeros((50,), dtype=int) \n",
        "    thresholds = np.arange(0, 50, 1)\n",
        "    i=0\n",
        "    for threshold in thresholds: #(Threshold in pixels)\n",
        "    #2: Iterate through every video \n",
        "      num_vids = float(0)\n",
        "      precision = 0\n",
        "      for bboxes1, bboxes2 in zip(trackerresults, groundtruth):\n",
        "        temp = calculate_precision(bboxes1,bboxes2,threshold)\n",
        "        precision = precision + temp\n",
        "        num_vids += 1.0000000000\n",
        "      #print(type(precision), type(num_vids))\n",
        "      precisions.append(float(precision)/float(num_vids))\n",
        "      i+=1\n",
        "      #print(precision,precisions[threshold])\n",
        "\n",
        "\n",
        "    #3: Graph average percision of all videos vs threshold\n",
        "\n",
        "    # plotting the points\n",
        "    plt.plot(thresholds, precisions)\n",
        "  \n",
        "    # naming the x axis\n",
        "    plt.xlabel('Location Error Threshold')\n",
        "    # naming the y axis\n",
        "    plt.ylabel('Precision')\n",
        "  \n",
        "    # giving a title to my graph\n",
        "    plt.title('Precision Plots of OPE')\n",
        "  \n",
        "  # function to show the plot\n",
        "  plt.savefig('Precision.png')\n",
        "  plt.show()\n",
        "\n",
        "\n",
        "def graph_success_plot(model_results, model_gts,num_models):\n",
        "  for model in range(num_models):\n",
        "    trackerresults, groundtruth = model_results[model], model_gts[model]\n",
        "    #1 Iterate through overlap threshold\n",
        "    successes = np.zeros((100,), dtype=int) \n",
        "    thresholds = np.arange(0, 1, .01)\n",
        "    i = 0\n",
        "    for threshold in thresholds: #(Threshold in pixels)\n",
        "\n",
        "    #2 Iterate through every video\n",
        "\n",
        "      num_vids = 0\n",
        "      success = 0\n",
        "      for bboxes1, bboxes2 in zip(trackerresults, groundtruth): \n",
        "        success += calculate_success(bboxes1,bboxes2,threshold)\n",
        "        num_vids += 1\n",
        "\n",
        "      successes[i] = success//float(num_vids)\n",
        "      i +=1\n",
        "    #3 Graph average success vs threshold\n",
        "\n",
        "    # plotting the points\n",
        "    plt.plot(thresholds, successes)\n",
        "  \n",
        "    # naming the x axis\n",
        "    plt.xlabel('Overlap Threshold')\n",
        "    # naming the y axis\n",
        "    plt.ylabel('Success Rate')\n",
        "  \n",
        "    # giving a title to my graph\n",
        "    plt.title('Success Plots of OPE')\n",
        " \n",
        "  # function to show the plot\n",
        "  plt.savefig('Success.png')\n",
        "  plt.show()\n",
        "\n",
        "#Add model bounding boxed and groundtruths to list. \n",
        "#Functions determine size of list based on num_models\n",
        "model_results=[all_boxes1,all_boxes2,all_boxes3]\n",
        "model_gts=[all_gt,all_gt]\n",
        "num_models=3\n",
        "graph_precision_plot(model_results, model_gts,num_models)\n",
        "graph_success_plot(model_results, model_gts,num_models)"
      ],
      "metadata": {
        "id": "W2j_2KaLfIEl"
      },
      "execution_count": null,
      "outputs": []
    }
  ],
  "metadata": {
    "accelerator": "GPU",
    "colab": {
      "background_execution": "on",
      "collapsed_sections": [],
      "machine_shape": "hm",
      "name": "results.ipynb",
      "provenance": []
    },
    "kernelspec": {
      "display_name": "Python 3",
      "language": "python",
      "name": "python3"
    },
    "language_info": {
      "codemirror_mode": {
        "name": "ipython",
        "version": 3
      },
      "file_extension": ".py",
      "mimetype": "text/x-python",
      "name": "python",
      "nbconvert_exporter": "python",
      "pygments_lexer": "ipython3",
      "version": "3.8.8"
    }
  },
  "nbformat": 4,
  "nbformat_minor": 0
}